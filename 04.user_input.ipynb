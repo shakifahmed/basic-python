{
 "cells": [
  {
   "cell_type": "code",
   "execution_count": 3,
   "metadata": {},
   "outputs": [
    {
     "name": "stdout",
     "output_type": "stream",
     "text": [
      "Enter Your Name:Shakif Ahmed\n",
      "Enter Your Age:23\n",
      "Enter Your CGPA:3.44\n",
      "\t****Student Information****\n",
      "\t............................\n",
      "\t  Student Name:Shakif Ahmed\n",
      "\t  Student Age:23\n",
      "\t  Student CGPA:3.44\n"
     ]
    }
   ],
   "source": [
    "#user = input ()\n",
    "#print (user)\n",
    "name = input(\"Enter Your Name:\")\n",
    "age = input (\"Enter Your Age:\")\n",
    "cgpa = input(\"Enter Your CGPA:\")\n",
    "print(\"\\t****Student Information****\")\n",
    "print (\"\\t............................\")\n",
    "print(\"\\t  Student Name:\"+name)\n",
    "print(\"\\t  Student Age:\"+age)\n",
    "print(\"\\t  Student CGPA:\"+cgpa)"
   ]
  },
  {
   "cell_type": "code",
   "execution_count": null,
   "metadata": {},
   "outputs": [],
   "source": []
  },
  {
   "cell_type": "code",
   "execution_count": null,
   "metadata": {},
   "outputs": [],
   "source": []
  }
 ],
 "metadata": {
  "kernelspec": {
   "display_name": "Python 3 (ipykernel)",
   "language": "python",
   "name": "python3"
  },
  "language_info": {
   "codemirror_mode": {
    "name": "ipython",
    "version": 3
   },
   "file_extension": ".py",
   "mimetype": "text/x-python",
   "name": "python",
   "nbconvert_exporter": "python",
   "pygments_lexer": "ipython3",
   "version": "3.11.5"
  }
 },
 "nbformat": 4,
 "nbformat_minor": 2
}
