{
 "cells": [
  {
   "cell_type": "code",
   "execution_count": 6,
   "metadata": {},
   "outputs": [],
   "source": [
    "from time import sleep\n",
    "from threading import *\n",
    "class Hello(Thread):\n",
    "\tdef run(self):\n",
    "\t\tfor i in range(5):\n",
    "\t\t\tprint(\"hello\")\n",
    "\t\t\tsleep(0.02)\n",
    "class Hi(Thread):\n",
    "\tdef run(self):\n",
    "\t\tfor i in range(5):\n",
    "\t\t\tprint(\"hi\")\n",
    "\t\t\tsleep(0.02)"
   ]
  },
  {
   "cell_type": "code",
   "execution_count": 7,
   "metadata": {},
   "outputs": [],
   "source": [
    "t1 = Hello()\n",
    "t2 = Hi()"
   ]
  },
  {
   "cell_type": "code",
   "execution_count": 8,
   "metadata": {},
   "outputs": [
    {
     "name": "stdout",
     "output_type": "stream",
     "text": [
      "hello\n",
      "hi\n",
      "hello\n",
      "hi\n",
      "hello\n",
      "hi\n",
      "hello\n",
      "hi\n",
      "hello\n",
      "hi\n"
     ]
    }
   ],
   "source": [
    "t1.start()\n",
    "sleep(0.01)\n",
    "t2.start()"
   ]
  },
  {
   "cell_type": "code",
   "execution_count": 9,
   "metadata": {},
   "outputs": [],
   "source": [
    "t1.join()\n",
    "t2.join()"
   ]
  },
  {
   "cell_type": "code",
   "execution_count": 10,
   "metadata": {},
   "outputs": [
    {
     "name": "stdout",
     "output_type": "stream",
     "text": [
      "bye\n"
     ]
    }
   ],
   "source": [
    "print(\"bye\")"
   ]
  },
  {
   "cell_type": "code",
   "execution_count": null,
   "metadata": {},
   "outputs": [],
   "source": []
  }
 ],
 "metadata": {
  "kernelspec": {
   "display_name": "Python 3 (ipykernel)",
   "language": "python",
   "name": "python3"
  },
  "language_info": {
   "codemirror_mode": {
    "name": "ipython",
    "version": 3
   },
   "file_extension": ".py",
   "mimetype": "text/x-python",
   "name": "python",
   "nbconvert_exporter": "python",
   "pygments_lexer": "ipython3",
   "version": "3.11.5"
  }
 },
 "nbformat": 4,
 "nbformat_minor": 2
}
