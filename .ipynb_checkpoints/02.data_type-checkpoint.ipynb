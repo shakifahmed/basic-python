{
 "cells": [
  {
   "cell_type": "markdown",
   "metadata": {},
   "source": [
    "# Numeric Type:"
   ]
  },
  {
   "cell_type": "code",
   "execution_count": 1,
   "metadata": {},
   "outputs": [
    {
     "name": "stdout",
     "output_type": "stream",
     "text": [
      "Enter N1:5\n",
      "Enter N2:9\n",
      "Enter N3:8\n",
      "Result1: 14.0\n",
      "Result2: -3.0\n",
      "(14-3j)\n"
     ]
    }
   ],
   "source": [
    "x = float(input (\"Enter N1:\"))\n",
    "y = float(input (\"Enter N2:\"))\n",
    "z = float(input (\"Enter N3:\"))\n",
    "add = x+y\n",
    "sub = x-z\n",
    "div = y/z\n",
    "print(\"Result1:\",add)\n",
    "print(\"Result2:\",sub)\n",
    "#print(\"Result3:\",div)\n",
    "a = add\n",
    "b = sub\n",
    "c = complex(a,b)\n",
    "print(c)\n"
   ]
  },
  {
   "cell_type": "markdown",
   "metadata": {},
   "source": [
    "# How to print which data type it is:"
   ]
  },
  {
   "cell_type": "code",
   "execution_count": 2,
   "metadata": {},
   "outputs": [
    {
     "name": "stdout",
     "output_type": "stream",
     "text": [
      "5 is of type <class 'int'>\n",
      "2.0 is of type <class 'float'>\n",
      "(1+2j) is complex number? True\n",
      "(1+2j) is of type <class 'complex'>\n"
     ]
    }
   ],
   "source": [
    "a = 5\n",
    "print(a, \"is of type\", type(a))\n",
    "a = 2.0\n",
    "print(a, \"is of type\", type(a))\n",
    "a = 1+2j\n",
    "print(a, \"is complex number?\", isinstance(1+2j,complex))\n",
    "print(a, \"is of type\", type(a))"
   ]
  },
  {
   "cell_type": "markdown",
   "metadata": {},
   "source": [
    "# List:"
   ]
  },
  {
   "cell_type": "code",
   "execution_count": null,
   "metadata": {},
   "outputs": [],
   "source": [
    "lst = [23,25,24,26,27,28,29]\n",
    "print (lst)\n",
    "lst.sort() #arrange list in sequence wise\n",
    "print(lst)\n",
    "print(lst.count(25)) #how many 25 in have in list\n",
    "lst.remove(23)\n",
    "print(lst)\n",
    "lst.reverse()\n",
    "print(lst)\n",
    "print(max(lst))\n",
    "print(min(lst))\n",
    "language = ['c','c++','python','java','js']\n",
    "print(language)\n",
    "print(language[-1])\n",
    "print('c++' in language)\n",
    "print('js' not in language)\n",
    "print(language + ['andriod','os','django','css','html']) # add more in list"
   ]
  },
  {
   "cell_type": "markdown",
   "metadata": {},
   "source": [
    "* append()\t= adds an element to the end of the list\n",
    "* extend()\t= adds all elements of a list to another list\n",
    "* insert() \t= inserts an item at the defined index\n",
    "* remove() \t= removes an item from the list\n",
    "* pop() \t\t= returns and removes an element at the given index\n",
    "* clear() \t= removes all items from the list\n",
    "* index() \t= returns the index of the first matched item\n",
    "* count() \t= returns the count of the number of items passed as an argument\n",
    "* sort() \t\t= sort items in a list in ascending order\n",
    "* reverse() \t= reverse the order of items in the list\n",
    "* copy() \t\t= returns a shallow copy of the list\n"
   ]
  },
  {
   "cell_type": "markdown",
   "metadata": {},
   "source": [
    "# Range:"
   ]
  },
  {
   "cell_type": "code",
   "execution_count": 3,
   "metadata": {},
   "outputs": [
    {
     "name": "stdout",
     "output_type": "stream",
     "text": [
      "[0, 1, 2, 3, 4, 5, 6, 7, 8, 9]\n",
      "[5, 6, 7, 8, 9, 10]\n",
      "[2, 4, 6, 8, 10]\n"
     ]
    }
   ],
   "source": [
    "num = list(range(10))\n",
    "print(num)\n",
    "num1 = list(range(5,11))\n",
    "print(num1)\n",
    "even = list(range(2,11,2))\n",
    "print(even)"
   ]
  },
  {
   "cell_type": "markdown",
   "metadata": {},
   "source": [
    "# Tuple:"
   ]
  },
  {
   "cell_type": "code",
   "execution_count": 4,
   "metadata": {},
   "outputs": [
    {
     "name": "stdout",
     "output_type": "stream",
     "text": [
      "(23, 24, 25, 26)\n",
      "25\n",
      "Total number of a , b , c , d ---> 2 , 2 , 2 , 0\n"
     ]
    }
   ],
   "source": [
    "tup = (23,24,25,26)\n",
    "print(tup)\n",
    "print(tup[2])\n",
    "\n",
    "#tup[2] = 28 #(it not work cz tuple is immutable)\n",
    "alp = ('a','b','c','b','a','c',)\n",
    "a = alp.count('a')\n",
    "b = alp.count('b')\n",
    "c = alp.count('c')\n",
    "d = alp.count('d')\n",
    "print(\"Total number of a , b , c , d --->\",a,\",\",b,\",\",c,\",\",d)"
   ]
  },
  {
   "cell_type": "markdown",
   "metadata": {},
   "source": [
    "# Set:"
   ]
  },
  {
   "cell_type": "code",
   "execution_count": 5,
   "metadata": {},
   "outputs": [
    {
     "name": "stdout",
     "output_type": "stream",
     "text": [
      "{1, 34, 3, 2, 37, 4, 5, 8, 7, 6, 45, 21, 24} \n",
      "\n",
      "45\n"
     ]
    }
   ],
   "source": [
    "s = {34,24,21,37,45,1,2,3,4,5,8,7,6,6}\n",
    "print (s,'\\n')\n",
    "#print(s[3])\n",
    "print(max(s))"
   ]
  },
  {
   "cell_type": "markdown",
   "metadata": {},
   "source": [
    "# Dictionary(dict):"
   ]
  },
  {
   "cell_type": "code",
   "execution_count": 6,
   "metadata": {},
   "outputs": [
    {
     "name": "stdout",
     "output_type": "stream",
     "text": [
      "20\n",
      "30\n",
      "40\n",
      "Name of Student 3: Anas\n"
     ]
    }
   ],
   "source": [
    "x = {'n1':20,'n2':30,'n3':40}\n",
    "print(x.get('n1'))\n",
    "print(x['n2'])\n",
    "print(x['n3'])\n",
    "z = {'name':{'Student1':'Shakif','Student2':'Rakib','Student3':'Anas'}}\n",
    "print(\"Name of Student 3:\",z ['name']['Student3'])"
   ]
  },
  {
   "cell_type": "markdown",
   "metadata": {},
   "source": [
    "# Boolean"
   ]
  },
  {
   "cell_type": "code",
   "execution_count": 7,
   "metadata": {},
   "outputs": [
    {
     "name": "stdout",
     "output_type": "stream",
     "text": [
      "False\n",
      "False\n",
      "True\n"
     ]
    }
   ],
   "source": [
    "a = 4\n",
    "b = 5\n",
    "c = a+b\n",
    "var = c < 4\n",
    "print(var)\n",
    "d,e = 7,8\n",
    "compa = d < 10 and e > 10\n",
    "print(compa)\n",
    "compa = d < 10 or e > 10\n",
    "print(compa)"
   ]
  },
  {
   "cell_type": "markdown",
   "metadata": {},
   "source": [
    "# in inteager format:\n",
    "## True=1 ,False=0"
   ]
  },
  {
   "cell_type": "code",
   "execution_count": 8,
   "metadata": {},
   "outputs": [
    {
     "name": "stdout",
     "output_type": "stream",
     "text": [
      "0\n",
      "1\n"
     ]
    }
   ],
   "source": [
    "a=2\n",
    "b=3\n",
    "print(int(a>b))\n",
    "print(int(a<b))"
   ]
  },
  {
   "cell_type": "markdown",
   "metadata": {},
   "source": [
    "# Binary Format:"
   ]
  },
  {
   "cell_type": "code",
   "execution_count": 9,
   "metadata": {},
   "outputs": [
    {
     "name": "stdout",
     "output_type": "stream",
     "text": [
      "0b11001\n",
      "0o43\n",
      "35\n",
      "0x1c8\n",
      "15\n",
      "40\n",
      "40\n",
      "2\n"
     ]
    }
   ],
   "source": [
    "a = bin(25)\n",
    "print(a)\n",
    "b = oct(35)\n",
    "print(b)\n",
    "print(0o43)\n",
    "c = hex(456)\n",
    "print(c)\n",
    "print(0xf)\n",
    "d = 10<<2 #(left shift method)\n",
    "print(d)\n",
    "print(0b101000)\n",
    "e = 10>>2 #(right shift method)\n",
    "print(e)"
   ]
  },
  {
   "cell_type": "code",
   "execution_count": null,
   "metadata": {},
   "outputs": [],
   "source": []
  }
 ],
 "metadata": {
  "kernelspec": {
   "display_name": "Python 3 (ipykernel)",
   "language": "python",
   "name": "python3"
  },
  "language_info": {
   "codemirror_mode": {
    "name": "ipython",
    "version": 3
   },
   "file_extension": ".py",
   "mimetype": "text/x-python",
   "name": "python",
   "nbconvert_exporter": "python",
   "pygments_lexer": "ipython3",
   "version": "3.11.5"
  }
 },
 "nbformat": 4,
 "nbformat_minor": 2
}
