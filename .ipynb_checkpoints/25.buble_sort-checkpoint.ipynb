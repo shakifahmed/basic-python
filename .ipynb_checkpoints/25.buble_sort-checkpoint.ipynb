{
 "cells": [
  {
   "cell_type": "code",
   "execution_count": 1,
   "metadata": {},
   "outputs": [],
   "source": [
    "#for ascending order:"
   ]
  },
  {
   "cell_type": "code",
   "execution_count": 16,
   "metadata": {},
   "outputs": [],
   "source": [
    "def bubleSort(list):\n",
    "\tfor i in range(len(list)-1):\n",
    "\t\tfor j in range(len(list)-1):\n",
    "\t\t\tif list[j] > list[j+1]:\n",
    "\t\t\t\ttemp = list[j]\n",
    "\t\t\t\tlist[j] = list[j+1]\n",
    "\t\t\t\tlist[j+1] = temp\n",
    "\tprint(list)"
   ]
  },
  {
   "cell_type": "code",
   "execution_count": 19,
   "metadata": {},
   "outputs": [
    {
     "name": "stdout",
     "output_type": "stream",
     "text": [
      "[0, 1, 2, 3, 5]\n"
     ]
    }
   ],
   "source": [
    "list1 = [5,3,1,0,2]\n",
    "bubleSort(list1)"
   ]
  },
  {
   "cell_type": "code",
   "execution_count": 20,
   "metadata": {},
   "outputs": [
    {
     "name": "stdout",
     "output_type": "stream",
     "text": [
      "[-5, -4, -3, -2, -1, 0, 1, 2, 3, 4, 5]\n"
     ]
    }
   ],
   "source": [
    "list2 = [5,-4,1,3,-2,0,-1,4,-3,2,-5]\n",
    "bubleSort(list2)"
   ]
  },
  {
   "cell_type": "code",
   "execution_count": 7,
   "metadata": {},
   "outputs": [],
   "source": [
    "# for descending order:"
   ]
  },
  {
   "cell_type": "code",
   "execution_count": 21,
   "metadata": {},
   "outputs": [],
   "source": [
    "def bubleSort(list):\n",
    "\tfor i in range(len(list)-1):\n",
    "\t\tfor j in range(len(list)-1):\n",
    "\t\t\tif list[j] < list[j+1]:\n",
    "\t\t\t\ttemp = list[j]\n",
    "\t\t\t\tlist[j] = list[j+1]\n",
    "\t\t\t\tlist[j+1] = temp\n",
    "\tprint(list)"
   ]
  },
  {
   "cell_type": "code",
   "execution_count": 22,
   "metadata": {},
   "outputs": [
    {
     "name": "stdout",
     "output_type": "stream",
     "text": [
      "[5, 3, 2, 1, 0]\n"
     ]
    }
   ],
   "source": [
    "list1 = [5,3,1,0,2]\n",
    "bubleSort(list1)"
   ]
  },
  {
   "cell_type": "code",
   "execution_count": 23,
   "metadata": {},
   "outputs": [
    {
     "name": "stdout",
     "output_type": "stream",
     "text": [
      "[5, 4, 3, 2, 1, 0, -1, -2, -3, -4, -5]\n"
     ]
    }
   ],
   "source": [
    "list2 = [5,-4,1,3,-2,0,-1,4,-3,2,-5]\n",
    "bubleSort(list2)"
   ]
  },
  {
   "cell_type": "code",
   "execution_count": null,
   "metadata": {},
   "outputs": [],
   "source": []
  }
 ],
 "metadata": {
  "kernelspec": {
   "display_name": "Python 3 (ipykernel)",
   "language": "python",
   "name": "python3"
  },
  "language_info": {
   "codemirror_mode": {
    "name": "ipython",
    "version": 3
   },
   "file_extension": ".py",
   "mimetype": "text/x-python",
   "name": "python",
   "nbconvert_exporter": "python",
   "pygments_lexer": "ipython3",
   "version": "3.11.5"
  }
 },
 "nbformat": 4,
 "nbformat_minor": 2
}
