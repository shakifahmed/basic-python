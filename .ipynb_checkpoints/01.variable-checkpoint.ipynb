{
 "cells": [
  {
   "cell_type": "markdown",
   "metadata": {},
   "source": [
    "\n",
    "<br>\n",
    "name = \"Shakif Ahmed\"<br>\n",
    "age = 24<br>\n",
    "cgpa = 3.75<br>\n",
    "print (\"Our new student name is \" + name +\".\")<br>\n",
    "print (name + \" lives in Bangladesh.\")<br>\n",
    "print (name + \" is currently\",age,\"years old.\")<br>\n",
    "print (name + \" got\",cgpa,\"CGPA.\")<br>\n"
   ]
  },
  {
   "cell_type": "markdown",
   "metadata": {},
   "source": [
    "\n",
    "<br>\n",
    "name = \"Shakif Ahmed\"<br>\n",
    "phone = \"01866163321\"<br>\n",
    "print(name,phone)<br>\n",
    "print(name, end= \" \") # can be write this way<br>\n",
    "print(phone)<br>\n"
   ]
  }
 ],
 "metadata": {
  "kernelspec": {
   "display_name": "Python 3 (ipykernel)",
   "language": "python",
   "name": "python3"
  },
  "language_info": {
   "codemirror_mode": {
    "name": "ipython",
    "version": 3
   },
   "file_extension": ".py",
   "mimetype": "text/x-python",
   "name": "python",
   "nbconvert_exporter": "python",
   "pygments_lexer": "ipython3",
   "version": "3.11.5"
  }
 },
 "nbformat": 4,
 "nbformat_minor": 2
}
