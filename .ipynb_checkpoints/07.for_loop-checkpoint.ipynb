{
 "cells": [
  {
   "cell_type": "markdown",
   "metadata": {},
   "source": [
    "# Syntax of for loop\n",
    "Here, val is the variable that takes<br>\n",
    "the value of the item inside the sequence<br>\n",
    "on each iteration.<br>\n",
    "Loop continues until we reach the last<br>\n",
    "item in the sequence. The body of for<br>\n",
    "loop is separated from the rest of the<br>\n",
    "code using indentation.<br>"
   ]
  },
  {
   "cell_type": "raw",
   "metadata": {},
   "source": [
    "for val in sequence:\n",
    "  loop body"
   ]
  },
  {
   "cell_type": "code",
   "execution_count": 3,
   "metadata": {},
   "outputs": [
    {
     "name": "stdout",
     "output_type": "stream",
     "text": [
      "10\n",
      "20\n",
      "30\n",
      "40\n",
      "50\n"
     ]
    }
   ],
   "source": [
    "num = [10,20,30,40,50]\n",
    "for x in num:\n",
    "    print(x)\n"
   ]
  },
  {
   "cell_type": "code",
   "execution_count": 4,
   "metadata": {},
   "outputs": [
    {
     "name": "stdout",
     "output_type": "stream",
     "text": [
      "S\n",
      "h\n",
      "a\n",
      "k\n",
      "i\n",
      "f\n",
      "Length of name : 6\n"
     ]
    }
   ],
   "source": [
    "name = 'Shakif'\n",
    "for x in name:\n",
    "    print(x)\n",
    "print(\"Length of name :\",len(name))\n"
   ]
  },
  {
   "cell_type": "code",
   "execution_count": 7,
   "metadata": {},
   "outputs": [
    {
     "name": "stdout",
     "output_type": "stream",
     "text": [
      "[10, 20, 30, 40, 50]\n",
      "150\n",
      "150\n"
     ]
    }
   ],
   "source": [
    "#Sum:\n",
    "num = [10,20,30,40,50]\n",
    "print(num)\n",
    "x = len(num)\n",
    "sum = 0\n",
    "for x in num:\n",
    "    sum = sum+x\n",
    "print(sum)\n",
    "\n",
    "# another way:\n",
    "sum = 0\n",
    "for x in [10,20,30,40,50]:\n",
    "    sum = sum+x\n",
    "print(sum)\n"
   ]
  },
  {
   "cell_type": "code",
   "execution_count": 8,
   "metadata": {},
   "outputs": [
    {
     "name": "stdout",
     "output_type": "stream",
     "text": [
      "Enter the number of n :50\n",
      "1275\n"
     ]
    }
   ],
   "source": [
    "# 1+2+3+....+n\n",
    "n = int(input(\"Enter the number of n :\"))\n",
    "sum = 0\n",
    "for x in range(1,n+1,1): #range(start, stop, step)\n",
    "    sum = sum+x\n",
    "print(sum)"
   ]
  },
  {
   "cell_type": "code",
   "execution_count": 9,
   "metadata": {},
   "outputs": [
    {
     "name": "stdout",
     "output_type": "stream",
     "text": [
      "Enter the number of n :20\n",
      "2870\n"
     ]
    }
   ],
   "source": [
    "# 1^2+2^2+3^2+.....+n^2\n",
    "n = int(input(\"Enter the number of n :\"))\n",
    "sum = 0\n",
    "for x in range(1,n+1,1):\n",
    "    sum = sum+x**2\n",
    "print(sum)"
   ]
  },
  {
   "cell_type": "markdown",
   "metadata": {},
   "source": [
    "# print reverse order:"
   ]
  },
  {
   "cell_type": "code",
   "execution_count": 10,
   "metadata": {},
   "outputs": [
    {
     "name": "stdout",
     "output_type": "stream",
     "text": [
      "20\n",
      "19\n",
      "18\n",
      "17\n",
      "16\n",
      "15\n",
      "14\n",
      "13\n",
      "12\n",
      "11\n",
      "10\n",
      "9\n",
      "8\n",
      "7\n",
      "6\n",
      "5\n",
      "4\n",
      "3\n",
      "2\n",
      "1\n"
     ]
    }
   ],
   "source": [
    "for x in range(20,0,-1): #(-1 means reverse)\n",
    "    print(x)"
   ]
  },
  {
   "cell_type": "markdown",
   "metadata": {},
   "source": [
    "# Nested for:"
   ]
  },
  {
   "cell_type": "code",
   "execution_count": 14,
   "metadata": {},
   "outputs": [
    {
     "name": "stdout",
     "output_type": "stream",
     "text": [
      "red apple\n",
      "red banana\n",
      "red cherry\n",
      "big apple\n",
      "big banana\n",
      "big cherry\n",
      "tasty apple\n",
      "tasty banana\n",
      "tasty cherry\n"
     ]
    }
   ],
   "source": [
    "adj = [\"red\", \"big\", \"tasty\"]\n",
    "fruits = [\"apple\", \"banana\", \"cherry\"]\n",
    "for x in adj:\n",
    "    for y in fruits:\n",
    "        print(x, y)"
   ]
  },
  {
   "cell_type": "markdown",
   "metadata": {},
   "source": [
    "# Pattern Create:"
   ]
  },
  {
   "cell_type": "markdown",
   "metadata": {},
   "source": [
    "<br>\n",
    "*<br>\n",
    "* *<br>\n",
    "* * *<br>\n",
    "* * * *<br>\n",
    "* * * * *<br>"
   ]
  },
  {
   "cell_type": "code",
   "execution_count": 15,
   "metadata": {},
   "outputs": [
    {
     "name": "stdout",
     "output_type": "stream",
     "text": [
      "*\n",
      "* *\n",
      "* * *\n",
      "* * * *\n",
      "* * * * *\n"
     ]
    }
   ],
   "source": [
    "n = 5\n",
    "for i in range(n):\n",
    "    for j in range(i):\n",
    "        print('*',end=' ')\n",
    "    print('*')"
   ]
  },
  {
   "cell_type": "markdown",
   "metadata": {},
   "source": [
    "<br>\n",
    "* * * * *<br>\n",
    "* * * *<br>\n",
    "* * *<br>\n",
    "* * <br>\n",
    "*<br>"
   ]
  },
  {
   "cell_type": "code",
   "execution_count": 16,
   "metadata": {},
   "outputs": [
    {
     "name": "stdout",
     "output_type": "stream",
     "text": [
      "* * * * *\n",
      "* * * *\n",
      "* * *\n",
      "* *\n",
      "*\n"
     ]
    }
   ],
   "source": [
    "n  = 5\n",
    "for i in range(5):\n",
    "    for j in range(4-i):\n",
    "        print('*',end=' ')\n",
    "    print('*')"
   ]
  },
  {
   "cell_type": "raw",
   "metadata": {},
   "source": [
    "        *\n",
    "      * *\n",
    "    * * *\n",
    "  * * * *\n",
    "* * * * *"
   ]
  },
  {
   "cell_type": "code",
   "execution_count": 17,
   "metadata": {},
   "outputs": [
    {
     "name": "stdout",
     "output_type": "stream",
     "text": [
      "Enter the number of row:5\n",
      "        *\n",
      "      * *\n",
      "    * * *\n",
      "  * * * *\n",
      "* * * * *\n"
     ]
    }
   ],
   "source": [
    "n = int(input('Enter the number of row:'))\n",
    "for i in range(n):\n",
    "    for s in range(1,n-i):\n",
    "        print(' ',end=' ')\n",
    "    for j in range(i):\n",
    "        print('*',end=' ')\n",
    "    print('*')"
   ]
  },
  {
   "cell_type": "markdown",
   "metadata": {},
   "source": [
    "<br>\n",
    "1 <br>\n",
    "1 2 <br>\n",
    "1 2 3 <br>\n",
    "1 2 3 4 <br>\n",
    "1 2 3 4 5<br>"
   ]
  },
  {
   "cell_type": "code",
   "execution_count": 18,
   "metadata": {},
   "outputs": [
    {
     "name": "stdout",
     "output_type": "stream",
     "text": [
      "1\n",
      "1 2\n",
      "1 2 3\n",
      "1 2 3 4\n",
      "1 2 3 4 5\n"
     ]
    }
   ],
   "source": [
    "n = 5\n",
    "for i in range(1,n+1) :\n",
    "    for j in range(1,i):\n",
    "        print(j,end=' ')\n",
    "    print(i)"
   ]
  },
  {
   "cell_type": "markdown",
   "metadata": {},
   "source": [
    "<br>\n",
    "1<br>\n",
    "2 3<br>\n",
    "4 5 6<br>\n",
    "7 8 9 10<br>"
   ]
  },
  {
   "cell_type": "code",
   "execution_count": 19,
   "metadata": {},
   "outputs": [
    {
     "name": "stdout",
     "output_type": "stream",
     "text": [
      "1 \n",
      "2 3 \n",
      "4 5 6 \n",
      "7 8 9 10 \n"
     ]
    }
   ],
   "source": [
    "n = 1\n",
    "row = 4\n",
    "for i in range(1,row+1):\n",
    "    for j in range(1,i+1):\n",
    "        print(n,end=' ')\n",
    "        n = n+1\n",
    "    print()\n"
   ]
  },
  {
   "cell_type": "markdown",
   "metadata": {},
   "source": [
    "# Guessing Game:"
   ]
  },
  {
   "cell_type": "code",
   "execution_count": 20,
   "metadata": {},
   "outputs": [
    {
     "name": "stdout",
     "output_type": "stream",
     "text": [
      "Enter your guessing number 1 to 5 :3\n",
      "Wrong guess\n",
      "The guessing number was 2\n",
      "Enter your guessing number 1 to 5 :1\n",
      "Wrong guess\n",
      "The guessing number was 3\n",
      "Enter your guessing number 1 to 5 :4\n",
      "Wrong guess\n",
      "The guessing number was 1\n",
      "Enter your guessing number 1 to 5 :5\n",
      "Wrong guess\n",
      "The guessing number was 2\n",
      "Enter your guessing number 1 to 5 :3\n",
      "Right guess\n"
     ]
    }
   ],
   "source": [
    "import random\n",
    "for i in range(1,10):\n",
    "    g = int(input('Enter your guessing number 1 to 5 :'))\n",
    "    r = random.randint(1,5)\n",
    "    if g == r:\n",
    "        print('Right guess')\n",
    "        break\n",
    "    else:\n",
    "        print('Wrong guess')\n",
    "        print('The guessing number was',r)"
   ]
  },
  {
   "cell_type": "code",
   "execution_count": 21,
   "metadata": {},
   "outputs": [],
   "source": [
    "import random"
   ]
  },
  {
   "cell_type": "code",
   "execution_count": 22,
   "metadata": {},
   "outputs": [
    {
     "name": "stdout",
     "output_type": "stream",
     "text": [
      "Enter your guessing num from 1 to 5:4\n",
      "Wrong Guess\n",
      "The Guessing Num was 2\n",
      "Guessing trying left: 4\n",
      "Enter your guessing num from 1 to 5:5\n",
      "Wrong Guess\n",
      "The Guessing Num was 2\n",
      "Guessing trying left: 3\n",
      "Enter your guessing num from 1 to 5:1\n",
      "Wrong Guess\n",
      "The Guessing Num was 2\n",
      "Guessing trying left: 2\n",
      "Enter your guessing num from 1 to 5:2\n",
      "Wrong Guess\n",
      "The Guessing Num was 5\n",
      "Guessing trying left: 1\n",
      "Enter your guessing num from 1 to 5:3\n",
      "Wrong Guess\n",
      "The Guessing Num was 4\n",
      "Guessing trying left: 0\n",
      "You reaching maximium trying\n"
     ]
    }
   ],
   "source": [
    "for i in range(1,6):\n",
    "    g = int(input('Enter your guessing num from 1 to 5:'))\n",
    "    r = random.randint(1,5)\n",
    "    if g == r:\n",
    "        print('Right Guess')\n",
    "        break\n",
    "    else:\n",
    "        print('Wrong Guess')\n",
    "        print('The Guessing Num was',r)\n",
    "        print('Guessing trying left:',5-i)\n",
    "else:\n",
    "    print('You reaching maximium trying')"
   ]
  },
  {
   "cell_type": "markdown",
   "metadata": {},
   "source": [
    "<br>\n",
    "1<br>\n",
    "2 4<br>\n",
    "3 6 9<br>\n",
    "4 8 12 16<br>"
   ]
  },
  {
   "cell_type": "code",
   "execution_count": 24,
   "metadata": {},
   "outputs": [
    {
     "name": "stdout",
     "output_type": "stream",
     "text": [
      "1 \n",
      "2 4 \n",
      "3 6 9 \n",
      "4 8 12 16 \n"
     ]
    }
   ],
   "source": [
    "n = 4\n",
    "def num():\n",
    "    pass\n",
    "for row in range(1,n+1):\n",
    "    for col in range(1,row+1):\n",
    "        num = row * col\n",
    "        print(num,end=' ')\n",
    "    print()\n"
   ]
  },
  {
   "cell_type": "markdown",
   "metadata": {},
   "source": [
    "<br>\n",
    "1<br>\n",
    "1 2<br>\n",
    "1 2 3<br>\n",
    "1 2 3 4<br>\n",
    "1 2 3 4 5<br>\n",
    "1 2 3 4<br>\n",
    "1 2 3<br>\n",
    "1 2<br>\n",
    "1<br>"
   ]
  },
  {
   "cell_type": "code",
   "execution_count": 25,
   "metadata": {},
   "outputs": [
    {
     "name": "stdout",
     "output_type": "stream",
     "text": [
      "\n",
      "1 \n",
      "1 2 \n",
      "1 2 3 \n",
      "1 2 3 4 \n",
      "1 2 3 4 5 \n",
      "1 2 3 4 \n",
      "1 2 3 \n",
      "1 2 \n",
      "1 \n"
     ]
    }
   ],
   "source": [
    "n = 5\n",
    "#num = 1\n",
    "for row in range(n+1):\n",
    "    for col in range(1,row+1):\n",
    "        print(col,end=' ')\n",
    "    print()\n",
    "for row in range(n,1,-1):\n",
    "    for col in range(1,row):\n",
    "        print(col,end=' ')\n",
    "    print()\n"
   ]
  },
  {
   "cell_type": "raw",
   "metadata": {},
   "source": [
    "        1\n",
    "      1 2\n",
    "    1 2 3\n",
    "  1 2 3 4\n",
    "1 2 3 4 5\n",
    "  1 2 3 4\n",
    "    1 2 3\n",
    "      1 2\n",
    "        1"
   ]
  },
  {
   "cell_type": "code",
   "execution_count": 27,
   "metadata": {},
   "outputs": [
    {
     "name": "stdout",
     "output_type": "stream",
     "text": [
      "Enter the middle row:5\n",
      "          \n",
      "        1 \n",
      "      1 2 \n",
      "    1 2 3 \n",
      "  1 2 3 4 \n",
      "1 2 3 4 5 \n",
      "  1 2 3 4 \n",
      "    1 2 3 \n",
      "      1 2 \n",
      "        1 \n"
     ]
    }
   ],
   "source": [
    "n = int(input('Enter the middle row:'))\n",
    "for row in range(n+1):\n",
    "    for space in range(1,n-(row-1)):\n",
    "        print(' ',end=' ')\n",
    "    for col in range(1,row+1):\n",
    "        print(col,end=' ')\n",
    "    print()\n",
    "for row in range(n,1,-1):\n",
    "    for space in range(1,n-(row-2)):\n",
    "        print(' ',end=' ')\n",
    "    for col in range(1,row):\n",
    "        print(col,end=' ')\n",
    "    print()"
   ]
  },
  {
   "cell_type": "raw",
   "metadata": {},
   "source": [
    "* * * * *\n",
    "  * * * *\n",
    "    * * *\n",
    "      * *\n",
    "        *\n",
    "        * *\n",
    "        * * *\n",
    "        * * * *\n",
    "        * * * * * "
   ]
  },
  {
   "cell_type": "code",
   "execution_count": 28,
   "metadata": {},
   "outputs": [
    {
     "name": "stdout",
     "output_type": "stream",
     "text": [
      "Enter n:5\n",
      "* * * * * \n",
      "  * * * * \n",
      "    * * * \n",
      "      * * \n",
      "        * \n",
      "        * * \n",
      "        * * * \n",
      "        * * * * \n",
      "        * * * * * \n"
     ]
    }
   ],
   "source": [
    "n = int(input('Enter n:'))\n",
    "for row in range(n+1,1,-1):\n",
    "    for space in range(1,n-(row-2)):\n",
    "        print(' ',end=' ')\n",
    "    for col in range(1,row):\n",
    "        print('*',end=' ')\n",
    "    print()\n",
    "for row in range(1,n):\n",
    "    for space in range(n-1):\n",
    "        print(' ',end=' ')\n",
    "    for col in range(row+1):\n",
    "        print('*',end=' ')\n",
    "    print()"
   ]
  },
  {
   "cell_type": "markdown",
   "metadata": {},
   "source": [
    "<br>\n",
    "* * * * * <br>\n",
    "* * * * <br>\n",
    "* * * <br>\n",
    "* * <br>\n",
    "* <br>\n",
    "* *<br>\n",
    "* * *<br>\n",
    "* * * *<br>\n",
    "* * * * *<br>"
   ]
  },
  {
   "cell_type": "code",
   "execution_count": 29,
   "metadata": {},
   "outputs": [
    {
     "name": "stdout",
     "output_type": "stream",
     "text": [
      "* * * * * \n",
      "* * * * \n",
      "* * * \n",
      "* * \n",
      "* \n",
      "* *\n",
      "* * *\n",
      "* * * *\n",
      "* * * * *\n"
     ]
    }
   ],
   "source": [
    "n = 5\n",
    "#num = 1\n",
    "for row in range(n+1,1,-1):\n",
    "    for col in range(1,row):\n",
    "        print('*',end=' ')\n",
    "    print()\n",
    "for row in range(n-1):\n",
    "    for col in range(row+1):\n",
    "        print('*',end=' ')\n",
    "    print('*')"
   ]
  },
  {
   "cell_type": "raw",
   "metadata": {},
   "source": [
    "      *\n",
    "    * * *\n",
    "  * * * * *\n",
    "* * * * * * *"
   ]
  },
  {
   "cell_type": "code",
   "execution_count": 32,
   "metadata": {},
   "outputs": [
    {
     "name": "stdout",
     "output_type": "stream",
     "text": [
      "Enter the number of row:4\n",
      "      * \n",
      "    * * * \n",
      "  * * * * * \n",
      "* * * * * * * \n"
     ]
    }
   ],
   "source": [
    "n = int(input('Enter the number of row:'))\n",
    "for row in range(1,n+1):\n",
    "    for space in range(1,n-row+1):\n",
    "        print(' ',end=' ')\n",
    "    for col in range(1,2*row):\n",
    "        print('*',end=' ')\n",
    "    print()"
   ]
  },
  {
   "cell_type": "markdown",
   "metadata": {},
   "source": [
    "# fibonacci number:\n",
    "## 0 1 1 2 3 5 8 13 21 34"
   ]
  },
  {
   "cell_type": "code",
   "execution_count": 33,
   "metadata": {},
   "outputs": [
    {
     "name": "stdout",
     "output_type": "stream",
     "text": [
      "0 1 1 2 3 5 8 13 21 34 "
     ]
    }
   ],
   "source": [
    "num  = 10\n",
    "a,b = 0,1\n",
    "if num == 1:\n",
    "    print(a)\n",
    "elif num == 2:\n",
    "    print(a,end=' ')\n",
    "    print(b,end=' ')\n",
    "elif num > 2:\n",
    "    print(a,end=' ')\n",
    "    print(b,end=' ')\n",
    "    for i in range(num-2):\n",
    "        c = a+b\n",
    "        a = b\n",
    "        b = c\n",
    "        print(c,end=' ')"
   ]
  },
  {
   "cell_type": "markdown",
   "metadata": {},
   "source": [
    "# number of factorial:\n",
    "**5! = 5 × 4 × 3 × 2 × 1 = 120**"
   ]
  },
  {
   "cell_type": "code",
   "execution_count": 34,
   "metadata": {},
   "outputs": [
    {
     "name": "stdout",
     "output_type": "stream",
     "text": [
      "5!:120\n"
     ]
    }
   ],
   "source": [
    "num = 5\n",
    "fact = 1\n",
    "for i in range(num,0,-1):\n",
    "    fact = fact*i\n",
    "print(num,\"!:\",fact,sep='')"
   ]
  },
  {
   "cell_type": "markdown",
   "metadata": {},
   "source": [
    "# Concatenate two lists index-wise:"
   ]
  },
  {
   "cell_type": "code",
   "execution_count": 35,
   "metadata": {},
   "outputs": [
    {
     "name": "stdout",
     "output_type": "stream",
     "text": [
      "['My', 'name', 'is', 'Kelly']\n"
     ]
    }
   ],
   "source": [
    "list1 = [\"M\", \"na\", \"i\", \"Ke\"]\n",
    "list2 = [\"y\", \"me\", \"s\", \"lly\"]\n",
    "list3 = []\n",
    "for i in range(len(list1)):\n",
    "    for j in range(len(list1)):\n",
    "        if i == j:\n",
    "            a = list1[i]+list2[j]\n",
    "            list3.append(a)\n",
    "print(list3)"
   ]
  },
  {
   "cell_type": "code",
   "execution_count": null,
   "metadata": {},
   "outputs": [],
   "source": []
  }
 ],
 "metadata": {
  "kernelspec": {
   "display_name": "Python 3 (ipykernel)",
   "language": "python",
   "name": "python3"
  },
  "language_info": {
   "codemirror_mode": {
    "name": "ipython",
    "version": 3
   },
   "file_extension": ".py",
   "mimetype": "text/x-python",
   "name": "python",
   "nbconvert_exporter": "python",
   "pygments_lexer": "ipython3",
   "version": "3.11.5"
  }
 },
 "nbformat": 4,
 "nbformat_minor": 2
}
