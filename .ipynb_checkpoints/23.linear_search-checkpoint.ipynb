{
 "cells": [
  {
   "cell_type": "code",
   "execution_count": 3,
   "metadata": {},
   "outputs": [
    {
     "name": "stdout",
     "output_type": "stream",
     "text": [
      "found\n",
      "position:2\n"
     ]
    }
   ],
   "source": [
    "pos = -1\n",
    "def search(list,n):\n",
    "\ti = 0\n",
    "\tfor i in range(len(list)):\n",
    "\t\tif list[i] == n:\n",
    "\t\t\tglobals()['pos'] = i\n",
    "\t\t\treturn True,pos\n",
    "\telse:\n",
    "\t\treturn False\n",
    "list = [1,2,3,4,5,6,7,8,9]\n",
    "n = 2\n",
    "if search(list, n):\n",
    "\tprint(\"found\")\n",
    "\tprint(\"position:\",pos+1,sep='')\n",
    "else:\n",
    "\tprint(\"not found\")\n"
   ]
  },
  {
   "cell_type": "code",
   "execution_count": 4,
   "metadata": {},
   "outputs": [
    {
     "name": "stdout",
     "output_type": "stream",
     "text": [
      "found\n",
      "position: 5\n"
     ]
    }
   ],
   "source": [
    "#another way:\n",
    "list = [1,2,3,4,5,6]\n",
    "n = 5\n",
    "for i in range(len(list)):\n",
    "    if list[i] == n:\n",
    "        print(\"found\")\n",
    "        print(\"position:\",i+1)\n",
    "        break\n",
    "else:\n",
    "    print(\"not found\")\n"
   ]
  },
  {
   "cell_type": "code",
   "execution_count": null,
   "metadata": {},
   "outputs": [],
   "source": []
  }
 ],
 "metadata": {
  "kernelspec": {
   "display_name": "Python 3 (ipykernel)",
   "language": "python",
   "name": "python3"
  },
  "language_info": {
   "codemirror_mode": {
    "name": "ipython",
    "version": 3
   },
   "file_extension": ".py",
   "mimetype": "text/x-python",
   "name": "python",
   "nbconvert_exporter": "python",
   "pygments_lexer": "ipython3",
   "version": "3.11.5"
  }
 },
 "nbformat": 4,
 "nbformat_minor": 2
}
