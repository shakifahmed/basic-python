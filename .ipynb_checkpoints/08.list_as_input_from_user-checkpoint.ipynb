{
 "cells": [
  {
   "cell_type": "markdown",
   "metadata": {},
   "source": [
    "# List as input from user:"
   ]
  },
  {
   "cell_type": "code",
   "execution_count": 2,
   "metadata": {},
   "outputs": [
    {
     "name": "stdout",
     "output_type": "stream",
     "text": [
      "Enter multiple strings :shakif Rakib Anas Saad Ruzaif\n",
      "['shakif', 'Rakib', 'Anas', 'Saad', 'Ruzaif']\n"
     ]
    }
   ],
   "source": [
    "n = input(\"Enter multiple strings :\") #use space\n",
    "list = n.split()\n",
    "print(list)"
   ]
  },
  {
   "cell_type": "markdown",
   "metadata": {},
   "source": [
    "# Sum:"
   ]
  },
  {
   "cell_type": "code",
   "execution_count": 4,
   "metadata": {},
   "outputs": [
    {
     "name": "stdout",
     "output_type": "stream",
     "text": [
      "Enter numbers:1 2 3 4 5 6 7 8 9 10\n",
      "Sum = 55\n"
     ]
    }
   ],
   "source": [
    "n = input('Enter numbers:')\n",
    "sum = 0\n",
    "num = n.split()\n",
    "for x in num:\n",
    "    sum = sum+int(x)\n",
    "print('Sum =',sum)"
   ]
  },
  {
   "cell_type": "markdown",
   "metadata": {},
   "source": [
    "# Number of letters,digits,words,sentences."
   ]
  },
  {
   "cell_type": "code",
   "execution_count": 5,
   "metadata": {},
   "outputs": [
    {
     "name": "stdout",
     "output_type": "stream",
     "text": [
      "Enter A Text:Hello i am shakif.i am 23. \n",
      "Number of letters: 17\n",
      "Number of digits: 2\n",
      "Number of words: 7\n",
      "Number of sentences: 2\n"
     ]
    }
   ],
   "source": [
    "num_of_letters = 0\n",
    "num_of_digits = 0\n",
    "num_of_words = 0\n",
    "num_of_sentences = 0\n",
    "text = input('Enter A Text:')\n",
    "#text = n.split()\n",
    "for x in text:\n",
    "    x = x.lower()      #convert all letter into small letters.\n",
    "    if x >= 'a' and x <= 'z':\n",
    "        num_of_letters = num_of_letters + 1\n",
    "    if x >= '0' and x <= '9':\n",
    "        num_of_digits = num_of_digits + 1\n",
    "    if x == ' ':\n",
    "        if x == '.':\n",
    "            num_of_words = num_of_words + 1\n",
    "        num_of_words = num_of_words + 1\n",
    "    if x == '.':\n",
    "        num_of_sentences = num_of_sentences + 1\n",
    "print('Number of letters:',num_of_letters)\n",
    "print('Number of digits:',num_of_digits)\n",
    "print('Number of words:',num_of_words+1)\n",
    "print('Number of sentences:',num_of_sentences)"
   ]
  },
  {
   "cell_type": "code",
   "execution_count": 9,
   "metadata": {},
   "outputs": [
    {
     "name": "stdout",
     "output_type": "stream",
     "text": [
      "Enter number of elements :5\n",
      "Enter number vertically\n",
      "\n",
      "1\n",
      "2\n",
      "3\n",
      "4\n",
      "5\n",
      "[1, 2, 3, 4, 5]\n",
      "3\n"
     ]
    }
   ],
   "source": [
    "lst = []\n",
    "n = int(input(\"Enter number of elements :\"))\n",
    "print('Enter number vertically\\n')\n",
    "for i in range(0, n):\n",
    "    ele = int(input())\n",
    "    lst.append(ele)  # adding the element\n",
    "print(lst)\n",
    "print(lst[2])\n",
    "\n",
    "#OR"
   ]
  },
  {
   "cell_type": "code",
   "execution_count": 10,
   "metadata": {},
   "outputs": [
    {
     "name": "stdout",
     "output_type": "stream",
     "text": [
      "Enter number of elements :3\n",
      "Enter number vertically\n",
      "\n",
      "number 1 :1\n",
      "number 2 :2\n",
      "number 3 :3\n",
      "[1, 2, 3]\n",
      "1\n",
      "2\n",
      "3\n"
     ]
    }
   ],
   "source": [
    "lst = []\n",
    "n = int(input(\"Enter number of elements :\"))\n",
    "print('Enter number vertically\\n')\n",
    "for i in range(1, n+1):\n",
    "    print('number',i,':',end=\"\")\n",
    "    ele = int(input())\n",
    "    lst.append(ele)  # adding the element\n",
    "print(lst)\n",
    "for i in lst:\n",
    "    print(i)"
   ]
  },
  {
   "cell_type": "markdown",
   "metadata": {},
   "source": [
    "# Convert str to int:"
   ]
  },
  {
   "cell_type": "code",
   "execution_count": 11,
   "metadata": {},
   "outputs": [
    {
     "name": "stdout",
     "output_type": "stream",
     "text": [
      "Enter multiple strings :1 2 3 4 5\n",
      "[1, 2, 3, 4, 5]\n"
     ]
    }
   ],
   "source": [
    "n = input(\"Enter multiple strings :\") #use space\n",
    "list = n.split()\n",
    "lst = [int(a) for a in list]\n",
    "print(lst)"
   ]
  },
  {
   "cell_type": "code",
   "execution_count": null,
   "metadata": {},
   "outputs": [],
   "source": []
  }
 ],
 "metadata": {
  "kernelspec": {
   "display_name": "Python 3 (ipykernel)",
   "language": "python",
   "name": "python3"
  },
  "language_info": {
   "codemirror_mode": {
    "name": "ipython",
    "version": 3
   },
   "file_extension": ".py",
   "mimetype": "text/x-python",
   "name": "python",
   "nbconvert_exporter": "python",
   "pygments_lexer": "ipython3",
   "version": "3.11.5"
  }
 },
 "nbformat": 4,
 "nbformat_minor": 2
}
