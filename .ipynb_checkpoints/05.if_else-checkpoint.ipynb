{
 "cells": [
  {
   "cell_type": "markdown",
   "metadata": {},
   "source": [
    "# if statement:"
   ]
  },
  {
   "cell_type": "code",
   "execution_count": 1,
   "metadata": {},
   "outputs": [
    {
     "name": "stdout",
     "output_type": "stream",
     "text": [
      "pass\n",
      "congratulation\n",
      "Enter your mark:30\n",
      "fail\n"
     ]
    }
   ],
   "source": [
    "mark = 80\n",
    "if mark >= 40:\n",
    "    print(\"pass\")\n",
    "    print(\"congratulation\")\n",
    "if mark < 40:\n",
    "    print(\"fail\")\n",
    "mark = float(input(\"Enter your mark:\"))\n",
    "if mark >= 40:\n",
    "    print(\"pass\")\n",
    "    print(\"congratulation\")\n",
    "if mark < 40:\n",
    "    print(\"fail\")"
   ]
  },
  {
   "cell_type": "markdown",
   "metadata": {},
   "source": [
    "# if...else statement:"
   ]
  },
  {
   "cell_type": "code",
   "execution_count": 10,
   "metadata": {},
   "outputs": [
    {
     "name": "stdout",
     "output_type": "stream",
     "text": [
      "Enter a number :50\n",
      "Even\n",
      "b is greater than a\n",
      "60 is greater.\n"
     ]
    }
   ],
   "source": [
    "i = int(input(\"Enter a number :\"))\n",
    "if i % 2 == 0 :\n",
    "    print(\"Even\")\n",
    "elif i % 2 == 1 :\n",
    "    print(\"Odd\")\n",
    "else :\n",
    "    print(\"wrong  input\")\n",
    "    \n",
    "a = 2\n",
    "b = 330\n",
    "print(\"a is greater than b\") if a > b else print(\"b is greater than a\")\n",
    "\n",
    "#Nested if :\n",
    "num1 = 20\n",
    "num2 = 60\n",
    "num3 = 40\n",
    "if num1 > num2:\n",
    "    if num1 > num3:\n",
    "        print(num1,\"is greater.\")\n",
    "    else:\n",
    "        print(num3,\"is greater.\")\n",
    "if num1 < num2:\n",
    "    if num2 > num3:\n",
    "        print(num2,\"is greater.\")\n",
    "    else:\n",
    "        print(num3,\"is greater.\")"
   ]
  },
  {
   "cell_type": "markdown",
   "metadata": {},
   "source": [
    "# Ternary Operator:"
   ]
  },
  {
   "cell_type": "code",
   "execution_count": 11,
   "metadata": {},
   "outputs": [
    {
     "name": "stdout",
     "output_type": "stream",
     "text": [
      "60 is greater\n"
     ]
    }
   ],
   "source": [
    "num1 = 60\n",
    "num2 = 40\n",
    "print(num1 if num1 > num2 else num2 , \"is greater\")"
   ]
  },
  {
   "cell_type": "markdown",
   "metadata": {},
   "source": [
    "# Logical Operator (and,or,not):"
   ]
  },
  {
   "cell_type": "code",
   "execution_count": 12,
   "metadata": {},
   "outputs": [
    {
     "name": "stdout",
     "output_type": "stream",
     "text": [
      "100 is greater\n"
     ]
    }
   ],
   "source": [
    "num1 = 40\n",
    "num2 = 100\n",
    "num3 = 90\n",
    "if num1 > num2 and num1 > num3:\n",
    "    print(num1,\"is greater\")\n",
    "elif num2 > num1 and num2 > num3:\n",
    "    print(num2, \"is greater\")\n",
    "else:\n",
    "    print(num3, \"is greater\")"
   ]
  },
  {
   "cell_type": "code",
   "execution_count": 13,
   "metadata": {},
   "outputs": [
    {
     "name": "stdout",
     "output_type": "stream",
     "text": [
      "Vowel\n"
     ]
    }
   ],
   "source": [
    "ch = 'i'\n",
    "if ch == 'a' or ch == 'e' or ch == 'i' or ch == 'o' or ch == 'u':\n",
    "    print('Vowel')\n",
    "else:\n",
    "    print('Consonent')"
   ]
  },
  {
   "cell_type": "code",
   "execution_count": 8,
   "metadata": {},
   "outputs": [
    {
     "name": "stdout",
     "output_type": "stream",
     "text": [
      "Enter a charecter:shakif\n",
      "Consonent\n"
     ]
    }
   ],
   "source": [
    "ch1 = str(input(\"Enter a charecter:\"))[0]\n",
    "if ch1 == 'a' or ch1 == 'e' or ch1 == 'i' or ch1 == 'o' or ch1 == 'u':\n",
    "    print('Vowel')\n",
    "else:\n",
    "    print('Consonent')"
   ]
  },
  {
   "cell_type": "code",
   "execution_count": 14,
   "metadata": {},
   "outputs": [
    {
     "name": "stdout",
     "output_type": "stream",
     "text": [
      "Grade:A+\n"
     ]
    }
   ],
   "source": [
    "marks = 90\n",
    "if marks >= 80 and marks <= 100:\n",
    "    print(\"Grade:A+\")\n",
    "elif marks >= 70 and marks <= 79:\n",
    "    print(\"Grade:A\")\n",
    "elif marks >= 60 and marks <= 69:\n",
    "    print(\"Grade:A-\")\n",
    "elif marks >= 50 and marks <= 59:\n",
    "    print(\"Grade:B\")\n",
    "elif marks >= 40 and marks <= 49:\n",
    "    print(\"Grade:C\")\n",
    "elif marks >= 33 and marks <= 39:\n",
    "    print(\"Grade:D\")\n",
    "elif marks >= 0 and marks <= 32:\n",
    "    print(\"Grade:F\")\n",
    "else:\n",
    "    print(\"wrong Input\")"
   ]
  },
  {
   "cell_type": "code",
   "execution_count": 15,
   "metadata": {},
   "outputs": [
    {
     "name": "stdout",
     "output_type": "stream",
     "text": [
      "Grade:B\n"
     ]
    }
   ],
   "source": [
    "#Another way\n",
    "marks = 56\n",
    "if 80 <= marks <= 100:\n",
    "    print(\"Grade:A+\")\n",
    "elif 70 <= marks <= 79:\n",
    "    print(\"Grade:A\")\n",
    "elif 60 <= marks <= 69:\n",
    "    print(\"Grade:A-\")\n",
    "elif 50 <= marks <= 59:\n",
    "    print(\"Grade:B\")\n",
    "elif 40 <= marks <= 49:\n",
    "    print(\"Grade:C\")\n",
    "elif 33 <= marks <= 39:\n",
    "    print(\"Grade:D\")\n",
    "elif 0 <= marks <= 32:\n",
    "    print(\"Grade:F\")\n",
    "else:\n",
    "    print(\"wrong input\")"
   ]
  },
  {
   "cell_type": "code",
   "execution_count": null,
   "metadata": {},
   "outputs": [],
   "source": []
  }
 ],
 "metadata": {
  "kernelspec": {
   "display_name": "Python 3 (ipykernel)",
   "language": "python",
   "name": "python3"
  },
  "language_info": {
   "codemirror_mode": {
    "name": "ipython",
    "version": 3
   },
   "file_extension": ".py",
   "mimetype": "text/x-python",
   "name": "python",
   "nbconvert_exporter": "python",
   "pygments_lexer": "ipython3",
   "version": "3.11.5"
  }
 },
 "nbformat": 4,
 "nbformat_minor": 2
}
