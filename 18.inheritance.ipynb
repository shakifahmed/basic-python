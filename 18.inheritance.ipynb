{
 "cells": [
  {
   "cell_type": "markdown",
   "metadata": {},
   "source": [
    "inheritance:Inheritance is one of the core concepts of <br>\n",
    "object-oriented programming (OOP) languages. <br>\n",
    "It is a mechanism where you can to derive a class from <br>\n",
    "another class for a hierarchy of classes that share a <br>\n",
    "set of attributes and methods"
   ]
  },
  {
   "cell_type": "code",
   "execution_count": 1,
   "metadata": {},
   "outputs": [],
   "source": [
    "class A: #grand class\n",
    "\tdef feature1(self):\n",
    "\t\tprint(\"feature 1 working\")\n",
    "\tdef feature2(self):\n",
    "\t\tprint(\"feature 2 working\")\n",
    "\tdef feature3(self):\n",
    "\t\tprint(\"feature 3 working\")\n",
    "class B(A): #parent class(B inherite A)\n",
    "\tdef feature4(self):\n",
    "\t\tprint(\"feature 4 working\")\n",
    "\tdef feature5(self):\n",
    "\t\tprint(\"feature 5 working\")\n",
    "class C(B): #child class\n",
    "\tdef feature6(self):\n",
    "\t\tprint(\"feature 6 working\")"
   ]
  },
  {
   "cell_type": "code",
   "execution_count": 2,
   "metadata": {},
   "outputs": [
    {
     "name": "stdout",
     "output_type": "stream",
     "text": [
      "feature 1 working\n",
      "feature 2 working\n",
      "feature 3 working\n"
     ]
    }
   ],
   "source": [
    "a1 = A()\n",
    "a1.feature1()\n",
    "a1.feature2()\n",
    "a1.feature3()"
   ]
  },
  {
   "cell_type": "code",
   "execution_count": 3,
   "metadata": {},
   "outputs": [
    {
     "name": "stdout",
     "output_type": "stream",
     "text": [
      "feature 1 working\n",
      "feature 2 working\n",
      "feature 3 working\n",
      "feature 4 working\n",
      "feature 5 working\n"
     ]
    }
   ],
   "source": [
    "b1 = B()\n",
    "b1.feature1()\n",
    "b1.feature2()\n",
    "b1.feature3()\n",
    "b1.feature4()\n",
    "b1.feature5()"
   ]
  },
  {
   "cell_type": "code",
   "execution_count": 4,
   "metadata": {},
   "outputs": [
    {
     "name": "stdout",
     "output_type": "stream",
     "text": [
      "feature 1 working\n",
      "feature 2 working\n",
      "feature 3 working\n",
      "feature 4 working\n",
      "feature 5 working\n",
      "feature 6 working\n"
     ]
    }
   ],
   "source": [
    "c1 = C()\n",
    "c1.feature1()\n",
    "c1.feature2()\n",
    "c1.feature3()\n",
    "c1.feature4()\n",
    "c1.feature5()\n",
    "c1.feature6()"
   ]
  },
  {
   "cell_type": "code",
   "execution_count": 5,
   "metadata": {},
   "outputs": [],
   "source": [
    "class Computer:\n",
    "    def process(self):\n",
    "        print(\"its running well\")\n",
    "class laptop(Computer):\n",
    "    def name(self):\n",
    "        print(\"my dell laptop\")\n",
    "        self.process()\n",
    "class language:\n",
    "    def python(self):\n",
    "        print(\"i am quite well in python\")\n",
    "class programmer:\n",
    "    def work(self,com):\n",
    "        print(\"solving problems\")"
   ]
  },
  {
   "cell_type": "code",
   "execution_count": 6,
   "metadata": {},
   "outputs": [
    {
     "name": "stdout",
     "output_type": "stream",
     "text": [
      "its running well\n",
      "my dell laptop\n",
      "its running well\n",
      "i am quite well in python\n",
      "i am quite well in python\n",
      "solving problems\n"
     ]
    }
   ],
   "source": [
    "a1 = Computer()\n",
    "a1.process()\n",
    "a2 = laptop()\n",
    "a2.name()\n",
    "a3 = language()\n",
    "a3.python()\n",
    "a4 = programmer()\n",
    "a4.work(a3.python())"
   ]
  },
  {
   "cell_type": "markdown",
   "metadata": {},
   "source": [
    "# multiple inheritance can be written this way:"
   ]
  },
  {
   "cell_type": "code",
   "execution_count": 1,
   "metadata": {},
   "outputs": [
    {
     "name": "stdout",
     "output_type": "stream",
     "text": [
      "Multiple Inheritance\n",
      "Name:Shakif Ahmed\n",
      "School Name:Sher-E Bangla Nagar Govt. Boys' High School\n",
      "Univrsity Name:Ahsanullah University of Science & Technology\n"
     ]
    }
   ],
   "source": [
    "class name:\n",
    "\tdef my_name(self):\n",
    "\t\tprint(\"Name:Shakif Ahmed\")\n",
    "class school:\n",
    "\tdef my_scl(self):\n",
    "\t\tprint(\"School Name:Sher-E Bangla Nagar Govt. Boys' High School\")\n",
    "class uni:\n",
    "\tdef my_uni(self):\n",
    "\t\tprint(\"Univrsity Name:Ahsanullah University of Science & Technology\")\n",
    "class call_all(name,school,uni):\n",
    "\tprint(\"Multiple Inheritance\")\n",
    "a = call_all()\n",
    "a.my_name()\n",
    "a.my_scl()\n",
    "a.my_uni()"
   ]
  },
  {
   "cell_type": "markdown",
   "metadata": {},
   "source": [
    "# Constructor inheriance:"
   ]
  },
  {
   "cell_type": "code",
   "execution_count": 2,
   "metadata": {},
   "outputs": [
    {
     "name": "stdout",
     "output_type": "stream",
     "text": [
      "in A init\n",
      "in B init\n"
     ]
    }
   ],
   "source": [
    "class A:\n",
    "\tdef __init__(self):\n",
    "\t\tprint(\"in A init\")\n",
    "\tdef feature1(self):\n",
    "\t\tprint(\"feature 1 is working \")\n",
    "class B(A):\n",
    "\tdef __init__(self):\n",
    "\t\tsuper().__init__() #super() function 1st got class then go to class B\n",
    "\t\tprint(\"in B init\")\n",
    "\tdef feature2(self):\n",
    "\t\tprint(\"feature 2 working\")\n",
    "b = B()\n"
   ]
  },
  {
   "cell_type": "markdown",
   "metadata": {},
   "source": [
    "# MRO(Method Resolution Order)"
   ]
  },
  {
   "cell_type": "code",
   "execution_count": 3,
   "metadata": {},
   "outputs": [
    {
     "name": "stdout",
     "output_type": "stream",
     "text": [
      "in A init\n",
      "in C init\n",
      "feature 1-A is working \n",
      "feature 2 is working\n"
     ]
    }
   ],
   "source": [
    "class A:\n",
    "\tdef __init__(self):\n",
    "\t\tprint(\"in A init\")\n",
    "\tdef feature1(self):\n",
    "\t\tprint(\"feature 1-A is working \")\n",
    "class B:\n",
    "\tdef __init__(self):\n",
    "\t\tsuper().__init__() #super() function 1st got class then go to class B\n",
    "\t\tprint(\"in B init\")\n",
    "\tdef feature1(self):\n",
    "\t\tprint(\"feature 1-B is working \")\n",
    "\tdef feature2(self):\n",
    "\t\tprint(\"feature 2 is working\")\n",
    "class C(A,B): #MRO Method (Left to Right)\n",
    "\tdef __init__(self):\n",
    "\t\tsuper().__init__()\n",
    "\t\tprint(\"in C init\")\n",
    "c = C()\n",
    "c.feature1()\n",
    "c.feature2()"
   ]
  },
  {
   "cell_type": "code",
   "execution_count": null,
   "metadata": {},
   "outputs": [],
   "source": []
  }
 ],
 "metadata": {
  "kernelspec": {
   "display_name": "Python 3 (ipykernel)",
   "language": "python",
   "name": "python3"
  },
  "language_info": {
   "codemirror_mode": {
    "name": "ipython",
    "version": 3
   },
   "file_extension": ".py",
   "mimetype": "text/x-python",
   "name": "python",
   "nbconvert_exporter": "python",
   "pygments_lexer": "ipython3",
   "version": "3.11.5"
  }
 },
 "nbformat": 4,
 "nbformat_minor": 2
}
