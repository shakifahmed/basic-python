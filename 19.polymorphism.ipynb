{
 "cells": [
  {
   "cell_type": "markdown",
   "metadata": {},
   "source": [
    "# duck typing:"
   ]
  },
  {
   "cell_type": "code",
   "execution_count": 1,
   "metadata": {},
   "outputs": [
    {
     "name": "stdout",
     "output_type": "stream",
     "text": [
      "compiling\n",
      "running\n",
      "spell check\n",
      "convention check\n",
      "compilling\n",
      "running\n"
     ]
    }
   ],
   "source": [
    "class PyCharm:\n",
    "\tdef execute(self):\n",
    "\t\tprint(\"compiling\")\n",
    "\t\tprint(\"running\")\n",
    "class SubLime:\n",
    "\tdef execute(self):\n",
    "\t\tprint(\"spell check\")\n",
    "\t\tprint(\"convention check\")\n",
    "\t\tprint(\"compilling\")\n",
    "\t\tprint(\"running\")\n",
    "class software:\n",
    "\tdef code(self,ide):\n",
    "\t\tide.execute()\n",
    "        \n",
    "ide = PyCharm()\n",
    "a = software()\n",
    "a.code(ide)\n",
    "ide = SubLime()\n",
    "b = software()\n",
    "b.code(ide)\n"
   ]
  },
  {
   "cell_type": "code",
   "execution_count": 2,
   "metadata": {},
   "outputs": [
    {
     "name": "stdout",
     "output_type": "stream",
     "text": [
      "11\n",
      "10\n",
      "5\n",
      "10\n",
      "10\n"
     ]
    }
   ],
   "source": [
    "# operator overloading:a = 5\n",
    "b = 6\n",
    "print(a+b)\n",
    "print(int.__add__(5,5))\n",
    "print(int.__sub__(10,5))\n",
    "print(int.__mul__(5,2))\n",
    "print(int.__abs__(-10))\n"
   ]
  },
  {
   "cell_type": "code",
   "execution_count": 3,
   "metadata": {},
   "outputs": [
    {
     "name": "stdout",
     "output_type": "stream",
     "text": [
      "120\n"
     ]
    }
   ],
   "source": [
    "class student:\n",
    "\tdef __init__(self,m1,m2):\n",
    "\t\tself.m1 = m1\n",
    "\t\tself.m2 = m2\n",
    "\tdef __add__(self,other): #(s1,s2)\n",
    "\t\tm1 = self.m1+other.m1\n",
    "\t\tm2 = self.m1+other.m2\n",
    "\t\ts = student(m1,m2)\n",
    "\t\treturn s\n",
    "s1 = student(50,60)\n",
    "s2 = student(70,80)\n",
    "s = s1+s2\n",
    "print(s.m1)\n"
   ]
  },
  {
   "cell_type": "code",
   "execution_count": 4,
   "metadata": {},
   "outputs": [
    {
     "name": "stdout",
     "output_type": "stream",
     "text": [
      "Details: Toyota Red 20 lakhs\n",
      "Car max speed is 240\n",
      "Car change 7 gear\n",
      "Details: Truck x1 white 75 Lakhs\n",
      "Vehicle max speed is 150\n",
      "Vehicle change 6 gear\n"
     ]
    }
   ],
   "source": [
    "class Vehicle:\n",
    "    def __init__(self, name, color, price):\n",
    "        self.name = name\n",
    "        self.color = color\n",
    "        self.price = price\n",
    "    def show(self):\n",
    "        print('Details:', self.name, self.color, self.price)\n",
    "    def max_speed(self):\n",
    "        print('Vehicle max speed is 150')\n",
    "    def change_gear(self):\n",
    "        print('Vehicle change 6 gear')\n",
    "        \n",
    "# inherit from vehicle class\n",
    "class Car(Vehicle):\n",
    "    def max_speed(self):\n",
    "        print('Car max speed is 240')\n",
    "    def change_gear(self):\n",
    "        print('Car change 7 gear')\n",
    "        \n",
    "# Car Object\n",
    "car = Car('Toyota', 'Red', '20 lakhs')\n",
    "car.show()\n",
    "\n",
    "# calls methods from Car class\n",
    "car.max_speed()\n",
    "car.change_gear()\n",
    "\n",
    "# Vehicle Object<br>\n",
    "vehicle = Vehicle('Truck x1', 'white', '75 Lakhs')\n",
    "vehicle.show()\n",
    "\n",
    "# calls method from a Vehicle class\n",
    "vehicle.max_speed()\n",
    "vehicle.change_gear()\n"
   ]
  },
  {
   "cell_type": "code",
   "execution_count": 9,
   "metadata": {},
   "outputs": [
    {
     "name": "stdout",
     "output_type": "stream",
     "text": [
      "in B show\n",
      "in A show\n"
     ]
    }
   ],
   "source": [
    "# overriding method:\n",
    "class A:\n",
    "\tdef show(self):\n",
    "\t\tprint(\"in A show\")\n",
    "class B(A):\n",
    "\tdef show(Self):\n",
    "\t\tprint(\"in B show\")\n",
    "class C(A):\n",
    "\tpass\n",
    "a = B()\n",
    "a.show() #will show \"in B show\" because it have own show() function.\n",
    "b = C()\n",
    "b.show() #will show \"in A show\" because it inherite class A.\n"
   ]
  },
  {
   "cell_type": "code",
   "execution_count": 10,
   "metadata": {},
   "outputs": [
    {
     "name": "stdout",
     "output_type": "stream",
     "text": [
      "['Shoes', 'dress']\n",
      "Redefine length\n",
      "4\n"
     ]
    }
   ],
   "source": [
    "class Shopping:\n",
    "    def __init__(self, basket, buyer):\n",
    "        self.basket = list(basket)\n",
    "        self.buyer = buyer\n",
    "    def __len__(self):\n",
    "        print('Redefine length')\n",
    "        count = len(self.basket)\n",
    "        # count total items in a different way\n",
    "        # pair of shoes and shir+pant\n",
    "        return count *2\n",
    "shopping = Shopping(['Shoes', 'dress'], 'Jessa')\n",
    "print(shopping.basket)\n",
    "print(len(shopping))\n"
   ]
  },
  {
   "cell_type": "code",
   "execution_count": null,
   "metadata": {},
   "outputs": [],
   "source": []
  }
 ],
 "metadata": {
  "kernelspec": {
   "display_name": "Python 3 (ipykernel)",
   "language": "python",
   "name": "python3"
  },
  "language_info": {
   "codemirror_mode": {
    "name": "ipython",
    "version": 3
   },
   "file_extension": ".py",
   "mimetype": "text/x-python",
   "name": "python",
   "nbconvert_exporter": "python",
   "pygments_lexer": "ipython3",
   "version": "3.11.5"
  }
 },
 "nbformat": 4,
 "nbformat_minor": 2
}
