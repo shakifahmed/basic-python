{
 "cells": [
  {
   "cell_type": "markdown",
   "metadata": {},
   "source": [
    "# Syntex"
   ]
  },
  {
   "cell_type": "code",
   "execution_count": 1,
   "metadata": {},
   "outputs": [
    {
     "name": "stdout",
     "output_type": "stream",
     "text": [
      "Hello\n"
     ]
    }
   ],
   "source": [
    "def greet():\n",
    "    print(\"Hello\")\n",
    "greet()"
   ]
  },
  {
   "cell_type": "markdown",
   "metadata": {},
   "source": [
    "# Create a sum function(without return):"
   ]
  },
  {
   "cell_type": "code",
   "execution_count": 2,
   "metadata": {},
   "outputs": [
    {
     "name": "stdout",
     "output_type": "stream",
     "text": [
      "15\n"
     ]
    }
   ],
   "source": [
    "def sum(x,y):\n",
    "    c = x+y\n",
    "    print(c)\n",
    "sum(10,5)"
   ]
  },
  {
   "cell_type": "markdown",
   "metadata": {},
   "source": [
    "# create a sum function(with return value):"
   ]
  },
  {
   "cell_type": "code",
   "execution_count": 3,
   "metadata": {},
   "outputs": [
    {
     "data": {
      "text/plain": [
       "25"
      ]
     },
     "execution_count": 3,
     "metadata": {},
     "output_type": "execute_result"
    }
   ],
   "source": [
    "def add(x,y):\n",
    "    c = x+y\n",
    "    return c\n",
    "add(5,20)"
   ]
  },
  {
   "cell_type": "code",
   "execution_count": 4,
   "metadata": {},
   "outputs": [
    {
     "name": "stdout",
     "output_type": "stream",
     "text": [
      "15\n",
      "5\n"
     ]
    }
   ],
   "source": [
    "# create a addition and subtraction fuction:<br>\n",
    "def add_sub(x,y):\n",
    "    a = x+y\n",
    "    b = x-y\n",
    "    return a,b\n",
    "res1,res2 = add_sub(10,5)\n",
    "print(res1)\n",
    "print(res2)\n"
   ]
  },
  {
   "cell_type": "code",
   "execution_count": 5,
   "metadata": {},
   "outputs": [
    {
     "name": "stdout",
     "output_type": "stream",
     "text": [
      "[5, 20, 30]\n",
      "1828096600640\n",
      "[10, 20, 30]\n",
      "1828096600640\n"
     ]
    }
   ],
   "source": [
    "def update(x):\n",
    "    x[0] = 10\n",
    "    return x\n",
    "a = [5,20,30]\n",
    "print(a)\n",
    "print(id(a))\n",
    "update(a)\n",
    "print(a)\n",
    "print(id(a))\n"
   ]
  },
  {
   "cell_type": "code",
   "execution_count": 6,
   "metadata": {},
   "outputs": [
    {
     "name": "stdout",
     "output_type": "stream",
     "text": [
      "Enter your name:Shakif Ahmed\n",
      "Enter your age:23\n",
      "Name: Shakif Ahmed\n",
      "Age: 23\n"
     ]
    }
   ],
   "source": [
    "def person(name,age):\n",
    "    print(\"Name:\",name)\n",
    "    print(\"Age:\",age)\n",
    "a = input(\"Enter your name:\")\n",
    "b = int(input(\"Enter your age:\"))\n",
    "person(age = b,name = a)\n"
   ]
  },
  {
   "cell_type": "code",
   "execution_count": 7,
   "metadata": {},
   "outputs": [
    {
     "name": "stdout",
     "output_type": "stream",
     "text": [
      "Enter your first name:Shakif\n",
      "Enter your last name:Ahmed\n",
      "First Name: Shakif\n",
      "Last Name: Ahmed\n"
     ]
    }
   ],
   "source": [
    "def name(fname,lname):\n",
    "    print(\"First Name:\",fname)\n",
    "    print(\"Last Name:\",lname)\n",
    "a = input(\"Enter your first name:\")\n",
    "b = input(\"Enter your last name:\")\n",
    "name(fname = a,lname = b)\n"
   ]
  },
  {
   "cell_type": "markdown",
   "metadata": {},
   "source": [
    "# fixed value if argument not declare:"
   ]
  },
  {
   "cell_type": "code",
   "execution_count": 8,
   "metadata": {},
   "outputs": [
    {
     "name": "stdout",
     "output_type": "stream",
     "text": [
      "Shakif\n",
      "18\n",
      "Shakif\n",
      "24\n"
     ]
    }
   ],
   "source": [
    "def person1(name,age = 18):\n",
    "    print(name)\n",
    "    print(age)\n",
    "person1(name = 'Shakif')\n",
    "person1(name = 'Shakif',age = 24) # if want change fixed age."
   ]
  },
  {
   "cell_type": "markdown",
   "metadata": {},
   "source": [
    "# multiple argument:"
   ]
  },
  {
   "cell_type": "code",
   "execution_count": 9,
   "metadata": {},
   "outputs": [
    {
     "name": "stdout",
     "output_type": "stream",
     "text": [
      "45\n"
     ]
    }
   ],
   "source": [
    "def add(a,*b): # here *b is tuple.\n",
    "    c = a\n",
    "    for i in b:\n",
    "        c = c+i\n",
    "    print(c)\n",
    "add(1,2,3,4,5,6,7,8,9) # here *b = (2,3,4,5,6,7,8,9)"
   ]
  },
  {
   "cell_type": "code",
   "execution_count": 10,
   "metadata": {},
   "outputs": [
    {
     "name": "stdout",
     "output_type": "stream",
     "text": [
      "45\n"
     ]
    }
   ],
   "source": [
    "# or\n",
    "def sum(*b):\n",
    "    c = 0\n",
    "    for i in b:\n",
    "        c = c+i\n",
    "    print(c)\n",
    "sum(1,2,3,4,5,6,7,8,9) # here *b = (1,2,3,4,5,6,7,8,9)"
   ]
  },
  {
   "cell_type": "markdown",
   "metadata": {},
   "source": [
    "# multiple arguments using keywords:"
   ]
  },
  {
   "cell_type": "code",
   "execution_count": 11,
   "metadata": {},
   "outputs": [
    {
     "name": "stdout",
     "output_type": "stream",
     "text": [
      "name Shakif\n",
      "age 24\n",
      "city Dhaka\n"
     ]
    }
   ],
   "source": [
    "def person2(**b):\n",
    "    for i,j in b.items():\n",
    "        print(i,j)\n",
    "person2(name = 'Shakif',age = 24,city = 'Dhaka')\n"
   ]
  },
  {
   "cell_type": "markdown",
   "metadata": {},
   "source": [
    "# pass list to a function :"
   ]
  },
  {
   "cell_type": "code",
   "execution_count": 12,
   "metadata": {},
   "outputs": [
    {
     "name": "stdout",
     "output_type": "stream",
     "text": [
      "Even:5 and odd:5\n"
     ]
    }
   ],
   "source": [
    "def count(lst):\n",
    "    even = 0\n",
    "    odd = 0\n",
    "    for i in lst:\n",
    "        if i%2 == 0:\n",
    "            even = even+1\n",
    "        else:\n",
    "            odd = odd+1\n",
    "    # print(\"even:\",even,end=\" and \")\n",
    "    # print(\"odd:\",odd)\n",
    "    # print(even)\n",
    "    # print(odd)\n",
    "    return even,odd\n",
    "lst = [1,2,3,4,5,6,7,8,9,10]\n",
    "even,odd = count(lst)\n",
    "print(\"Even:{} and odd:{}\".format(even,odd))\n"
   ]
  },
  {
   "cell_type": "code",
   "execution_count": 13,
   "metadata": {},
   "outputs": [
    {
     "name": "stdout",
     "output_type": "stream",
     "text": [
      "have atleast 5 letter or more in 3 name\n"
     ]
    }
   ],
   "source": [
    "def count1(name):\n",
    "    letter = 0\n",
    "    for i in name:\n",
    "        if len(i) >= 5:\n",
    "            letter += 1\n",
    "    print(\"have atleast 5 letter or more in\",letter,\"name\")\n",
    "name = ['Shakif','Rakib','Anas','Saad','Ruzaif']\n",
    "count1(name)"
   ]
  },
  {
   "cell_type": "markdown",
   "metadata": {},
   "source": [
    "# Fibonacci number:"
   ]
  },
  {
   "cell_type": "code",
   "execution_count": 14,
   "metadata": {},
   "outputs": [],
   "source": [
    "def fib(num):\n",
    "    if num > 0:\n",
    "        a = 0\n",
    "        b = 1\n",
    "        if num == 1:\n",
    "            print(a)\n",
    "        else:\n",
    "            print(a)\n",
    "            print(b)\n",
    "            for i in range(2,num):\n",
    "                c = a+b\n",
    "                a = b\n",
    "                b = c\n",
    "                print(c)\n",
    "    if num < 0:\n",
    "        a = 0\n",
    "        b = -1\n",
    "        if num == -1:\n",
    "            print(a)\n",
    "        else:\n",
    "            print(a)\n",
    "            print(b)\n",
    "            for i in range(num,-2):\n",
    "                c = a+b\n",
    "                a = b\n",
    "                b = c\n",
    "                print(c)\n"
   ]
  },
  {
   "cell_type": "code",
   "execution_count": 15,
   "metadata": {},
   "outputs": [
    {
     "name": "stdout",
     "output_type": "stream",
     "text": [
      "0\n",
      "1\n",
      "1\n",
      "2\n",
      "3\n",
      "5\n",
      "8\n",
      "13\n",
      "21\n",
      "34\n"
     ]
    }
   ],
   "source": [
    "fib(10)"
   ]
  },
  {
   "cell_type": "code",
   "execution_count": 16,
   "metadata": {},
   "outputs": [
    {
     "name": "stdout",
     "output_type": "stream",
     "text": [
      "0\n",
      "-1\n",
      "-1\n",
      "-2\n",
      "-3\n",
      "-5\n",
      "-8\n",
      "-13\n",
      "-21\n",
      "-34\n"
     ]
    }
   ],
   "source": [
    "fib(-10)"
   ]
  },
  {
   "cell_type": "markdown",
   "metadata": {},
   "source": [
    "# Factorial of a number:"
   ]
  },
  {
   "cell_type": "code",
   "execution_count": 17,
   "metadata": {},
   "outputs": [
    {
     "name": "stdout",
     "output_type": "stream",
     "text": [
      "120\n"
     ]
    }
   ],
   "source": [
    "def fact(n):\n",
    "    fact = 1\n",
    "    for i in range(1,n+1):\n",
    "        fact = fact*i\n",
    "    return fact\n",
    "result = fact(5)\n",
    "print(result)"
   ]
  },
  {
   "cell_type": "markdown",
   "metadata": {},
   "source": [
    "# factorial of a number using recursion:"
   ]
  },
  {
   "cell_type": "code",
   "execution_count": 18,
   "metadata": {},
   "outputs": [
    {
     "name": "stdout",
     "output_type": "stream",
     "text": [
      "120\n"
     ]
    }
   ],
   "source": [
    "def fact(x):\n",
    "    if x == 0:\n",
    "        return 1\n",
    "    f = x*fact(x-1)\n",
    "    return f\n",
    "print(fact(5))\n"
   ]
  },
  {
   "cell_type": "markdown",
   "metadata": {},
   "source": [
    "# factorial of a number using recursion(taking input from user):"
   ]
  },
  {
   "cell_type": "code",
   "execution_count": 19,
   "metadata": {},
   "outputs": [
    {
     "name": "stdout",
     "output_type": "stream",
     "text": [
      "Enter Number:5\n",
      "5!=120\n"
     ]
    }
   ],
   "source": [
    "def fact1(x):\n",
    "    if x == 0:\n",
    "        return 1\n",
    "    elif x == 1:\n",
    "        return 1\n",
    "    elif x > 1:\n",
    "        f = x * fact1(x-1)\n",
    "    else:\n",
    "        print(\"invalid\")\n",
    "    return f\n",
    "x = int(input(\"Enter Number:\"))\n",
    "print(x,\"!=\",fact1(x),sep='')\n"
   ]
  },
  {
   "cell_type": "markdown",
   "metadata": {},
   "source": [
    "# Lamda function(Anonymous function):"
   ]
  },
  {
   "cell_type": "code",
   "execution_count": 20,
   "metadata": {},
   "outputs": [
    {
     "name": "stdout",
     "output_type": "stream",
     "text": [
      "25\n",
      "11\n"
     ]
    }
   ],
   "source": [
    "f = lambda a : a*a\n",
    "print(f(5))\n",
    "k = lambda a,b : a+b\n",
    "print(k(5,6))"
   ]
  },
  {
   "cell_type": "markdown",
   "metadata": {},
   "source": [
    "# filter() function:"
   ]
  },
  {
   "cell_type": "code",
   "execution_count": 23,
   "metadata": {},
   "outputs": [
    {
     "name": "stdout",
     "output_type": "stream",
     "text": [
      "[1, 3, 5, 7, 9]\n"
     ]
    }
   ],
   "source": [
    "def odd(n):\n",
    "    if n%2 != 0:\n",
    "        return n\n",
    "n = [1,2,3,4,5,6,7,8,9]\n",
    "odd = filter(odd,n)\n",
    "odd = list(odd)\n",
    "print(odd)"
   ]
  },
  {
   "cell_type": "code",
   "execution_count": 24,
   "metadata": {},
   "outputs": [
    {
     "name": "stdout",
     "output_type": "stream",
     "text": [
      "[2, 4, 6, 8]\n"
     ]
    }
   ],
   "source": [
    "#or this way(using lambda)\n",
    "\n",
    "lst = [1,2,3,4,5,6,7,8,9]\n",
    "even = list(filter(lambda n : n%2 == 0,lst))\n",
    "print(even)"
   ]
  },
  {
   "cell_type": "markdown",
   "metadata": {},
   "source": [
    "# map() function (uses for change every value):"
   ]
  },
  {
   "cell_type": "code",
   "execution_count": 25,
   "metadata": {},
   "outputs": [
    {
     "name": "stdout",
     "output_type": "stream",
     "text": [
      "[1, 3, 5, 7, 9]\n",
      "[2, 6, 10, 14, 18]\n"
     ]
    }
   ],
   "source": [
    "nums = [1,2,3,4,5,6,7,8,9]\n",
    "odd = list(filter(lambda n: n%2 != 0,nums))\n",
    "print(odd)\n",
    "doubles = list(map(lambda n : n*2,odd))\n",
    "print(doubles)"
   ]
  },
  {
   "cell_type": "markdown",
   "metadata": {},
   "source": [
    "# reduce() function (make multiple value to one value):\n",
    "for use reduce() function need call functools module<br>\n",
    "{here want to sum all doubles value<br>\n",
    "that means want to multiple value to reduce one value}<br>\n",
    "{reduce() function work with only 2 value.<br>\n",
    "example--> lets want to sum 1+2+3+4+5.reduce() function<br>\n",
    "firstly add 1+2=3,then 3(which is 1+2)+3=6,<br>\n",
    "then 6(which is 3+3)+4=10,lastly 10(which is 6+4)+5=15.}<br>"
   ]
  },
  {
   "cell_type": "code",
   "execution_count": 26,
   "metadata": {},
   "outputs": [],
   "source": [
    "from functools import reduce"
   ]
  },
  {
   "cell_type": "code",
   "execution_count": 27,
   "metadata": {},
   "outputs": [
    {
     "name": "stdout",
     "output_type": "stream",
     "text": [
      "even: [2, 4, 6, 8]\n",
      "doubles: [4, 8, 12, 16]\n",
      "sum: 40\n"
     ]
    }
   ],
   "source": [
    "nums = [1,2,3,4,5,6,7,8,9]\n",
    "even = list(filter(lambda  n:n%2==0,nums)) #filtering\n",
    "print(\"even:\",even)\n",
    "doubles = list(map(lambda n:n*2,even)) #changing value\n",
    "print(\"doubles:\",doubles)\n",
    "add = reduce(lambda a,b:a+b,doubles) #reducing\n",
    "print(\"sum:\",add)"
   ]
  },
  {
   "cell_type": "code",
   "execution_count": 28,
   "metadata": {},
   "outputs": [],
   "source": [
    "lst2 = list(range(1,10))"
   ]
  },
  {
   "cell_type": "code",
   "execution_count": 29,
   "metadata": {},
   "outputs": [
    {
     "data": {
      "text/plain": [
       "[1, 2, 3, 4, 5, 6, 7, 8, 9]"
      ]
     },
     "execution_count": 29,
     "metadata": {},
     "output_type": "execute_result"
    }
   ],
   "source": [
    "lst2"
   ]
  },
  {
   "cell_type": "code",
   "execution_count": null,
   "metadata": {},
   "outputs": [],
   "source": []
  }
 ],
 "metadata": {
  "kernelspec": {
   "display_name": "Python 3 (ipykernel)",
   "language": "python",
   "name": "python3"
  },
  "language_info": {
   "codemirror_mode": {
    "name": "ipython",
    "version": 3
   },
   "file_extension": ".py",
   "mimetype": "text/x-python",
   "name": "python",
   "nbconvert_exporter": "python",
   "pygments_lexer": "ipython3",
   "version": "3.11.5"
  }
 },
 "nbformat": 4,
 "nbformat_minor": 2
}
