{
 "cells": [
  {
   "cell_type": "code",
   "execution_count": 1,
   "metadata": {},
   "outputs": [
    {
     "name": "stdout",
     "output_type": "stream",
     "text": [
      "Our new student name is Shakif Ahmed.\n",
      "Shakif Ahmed lives in Bangladesh.\n",
      "Shakif Ahmed is currently 24 years old.\n",
      "Shakif Ahmed got 3.75 CGPA.\n"
     ]
    }
   ],
   "source": [
    "name = \"Shakif Ahmed\"\n",
    "age = 24\n",
    "cgpa = 3.75\n",
    "print (\"Our new student name is \" + name +\".\")\n",
    "print (name + \" lives in Bangladesh.\")\n",
    "print (name + \" is currently\",age,\"years old.\")\n",
    "print (name + \" got\",cgpa,\"CGPA.\")\n"
   ]
  },
  {
   "cell_type": "code",
   "execution_count": 3,
   "metadata": {},
   "outputs": [
    {
     "name": "stdout",
     "output_type": "stream",
     "text": [
      "Shakif Ahmed ...163321\n",
      "Shakif Ahmed ...163321\n"
     ]
    }
   ],
   "source": [
    "name = \"Shakif Ahmed\"\n",
    "phone = \"...163321\"\n",
    "print(name,phone)\n",
    "print(name, end= \" \") # can be write this way\n",
    "print(phone)"
   ]
  },
  {
   "cell_type": "code",
   "execution_count": null,
   "metadata": {},
   "outputs": [],
   "source": []
  }
 ],
 "metadata": {
  "kernelspec": {
   "display_name": "Python 3 (ipykernel)",
   "language": "python",
   "name": "python3"
  },
  "language_info": {
   "codemirror_mode": {
    "name": "ipython",
    "version": 3
   },
   "file_extension": ".py",
   "mimetype": "text/x-python",
   "name": "python",
   "nbconvert_exporter": "python",
   "pygments_lexer": "ipython3",
   "version": "3.11.5"
  }
 },
 "nbformat": 4,
 "nbformat_minor": 2
}
