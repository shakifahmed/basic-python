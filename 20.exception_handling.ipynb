{
 "cells": [
  {
   "cell_type": "raw",
   "metadata": {},
   "source": [
    "# use for errors handling.\n",
    "# in programming errors can happen.\n",
    "# all the coding get stoped after the error line.\n",
    "# the main perpose is running the code after getting error.\n",
    "# but we also define the errors."
   ]
  },
  {
   "cell_type": "code",
   "execution_count": 1,
   "metadata": {},
   "outputs": [
    {
     "name": "stdout",
     "output_type": "stream",
     "text": [
      "resource open\n",
      "you can not divide a num by zero\n",
      "Error: division by zero\n",
      "resource closed\n"
     ]
    }
   ],
   "source": [
    "a = 5\n",
    "b = 0\n",
    "try:\n",
    "\tprint(\"resource open\")\n",
    "\tprint(a/b)\n",
    "\tnum = int(input(\"enter any number: \"))# in this case it will not work because \n",
    "\tprint(num)\t\t\t\t\t\t\t  # one error already caught.need to use\n",
    "\t\t\t\t\t\t\t\t\t\t  # multiple error method\n",
    "        \n",
    "#use it by especificly error name.\n",
    "except ZeroDivisionError as e:\n",
    "\tprint(\"you can not divide a num by zero\")\n",
    "\tprint(\"Error:\",e)\n",
    "except ValueError as e:\n",
    "\tprint(\"error:\",e)\n",
    "except Exception as e:\n",
    "\tprint(\"something went wrong...\")\n",
    "\tprint(\"Error:\",e)\n",
    "finally:\n",
    "\tprint(\"resource closed\")\n"
   ]
  },
  {
   "cell_type": "code",
   "execution_count": 2,
   "metadata": {},
   "outputs": [
    {
     "name": "stdout",
     "output_type": "stream",
     "text": [
      "resource open\n",
      "error: division by zero\n",
      "enter num:2\n",
      "2\n",
      "resource closed\n"
     ]
    }
   ],
   "source": [
    "# for multiple errors:\n",
    "i = 10\n",
    "j = 0\n",
    "try:\n",
    "\tprint(\"resource open\")\n",
    "\tprint(i/j)\n",
    "except Exception as e:\n",
    "\tprint(\"error:\",e)\n",
    "try:\n",
    "\tk = int(input(\"enter num:\"))\n",
    "\tprint(k)\n",
    "except Exception as e:\n",
    "\tprint(\"error:\",e)\n",
    "finally:\n",
    "\tprint(\"resource closed\")\n"
   ]
  },
  {
   "cell_type": "code",
   "execution_count": null,
   "metadata": {},
   "outputs": [],
   "source": []
  }
 ],
 "metadata": {
  "kernelspec": {
   "display_name": "Python 3 (ipykernel)",
   "language": "python",
   "name": "python3"
  },
  "language_info": {
   "codemirror_mode": {
    "name": "ipython",
    "version": 3
   },
   "file_extension": ".py",
   "mimetype": "text/x-python",
   "name": "python",
   "nbconvert_exporter": "python",
   "pygments_lexer": "ipython3",
   "version": "3.11.5"
  }
 },
 "nbformat": 4,
 "nbformat_minor": 2
}
