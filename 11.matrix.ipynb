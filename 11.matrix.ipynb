{
 "cells": [
  {
   "cell_type": "code",
   "execution_count": 6,
   "metadata": {},
   "outputs": [],
   "source": [
    "import numpy as np"
   ]
  },
  {
   "cell_type": "code",
   "execution_count": 7,
   "metadata": {},
   "outputs": [
    {
     "name": "stdout",
     "output_type": "stream",
     "text": [
      "[[1, 2, 3], [4, 5, 6]]\n",
      "[1, 2, 3]\n",
      "[4, 5, 6]\n",
      "1\n",
      "2\n",
      "3\n",
      "4\n",
      "5\n",
      "6\n"
     ]
    }
   ],
   "source": [
    "matrix = [[1, 2, 3],\n",
    "[4, 5, 6]]\n",
    "print(matrix)\n",
    "for k in matrix:\n",
    "    print(k)\n",
    "    \n",
    "for m in matrix:\n",
    "    for n in m:\n",
    "        print(n)\n",
    "    # print()<br>\n"
   ]
  },
  {
   "cell_type": "code",
   "execution_count": 8,
   "metadata": {},
   "outputs": [
    {
     "name": "stdout",
     "output_type": "stream",
     "text": [
      "A = [[1, 4, 5, 12], [-5, 8, 9, 0], [-6, 7, 11, 19]]\n",
      "A[1] = [-5, 8, 9, 0]\n",
      "A[1][2] = 9\n",
      "A[0][-1] = 12\n",
      "[-6, 7, 11, 19]\n",
      "3rd column = [5, 9, 11]\n"
     ]
    }
   ],
   "source": [
    "#access column:\n",
    "A = [[1, 4, 5, 12],\n",
    "    [-5, 8, 9, 0],\n",
    "    [-6, 7, 11, 19]]\n",
    "print(\"A =\", A)\n",
    "print(\"A[1] =\", A[1])      # 2nd row\n",
    "print(\"A[1][2] =\", A[1][2])   # 3rd element of 2nd row\n",
    "print(\"A[0][-1] =\", A[0][-1])   # Last element of 1st Row\n",
    "print(A[2])\n",
    "column = [];        # empty list\n",
    "for row in A:\n",
    "    column.append(row[2])\n",
    "print(\"3rd column =\", column)\n"
   ]
  },
  {
   "cell_type": "code",
   "execution_count": 9,
   "metadata": {},
   "outputs": [
    {
     "name": "stdout",
     "output_type": "stream",
     "text": [
      "\n",
      "m:\n",
      " [[1 2 3]\n",
      " [4 5 6]\n",
      " [7 8 9]]\n",
      "\n",
      "n:\n",
      " [[1 3 5]\n",
      " [2 4 6]\n",
      " [5 8 9]]\n",
      "<class 'numpy.matrix'>\n"
     ]
    }
   ],
   "source": [
    "m = np.matrix('1, 2, 3;4, 5, 6;7, 8, 9')\n",
    "n = np.matrix('1 3 5; 2 4 6;5 8 9')\n",
    "print(\"\\nm:\\n\",m)\n",
    "print(\"\\nn:\\n\",n)\n",
    "print(type(m))\n"
   ]
  },
  {
   "cell_type": "code",
   "execution_count": 10,
   "metadata": {},
   "outputs": [
    {
     "name": "stdout",
     "output_type": "stream",
     "text": [
      "\n",
      "Add:\n",
      " [[ 2  5  8]\n",
      " [ 6  9 12]\n",
      " [12 16 18]]\n"
     ]
    }
   ],
   "source": [
    "# Add two matrix:\n",
    "a  = m+n\n",
    "print(\"\\nAdd:\\n\",a)"
   ]
  },
  {
   "cell_type": "code",
   "execution_count": 11,
   "metadata": {},
   "outputs": [
    {
     "name": "stdout",
     "output_type": "stream",
     "text": [
      "\n",
      "Multiply:\n",
      " [[ 20  35  44]\n",
      " [ 44  80 104]\n",
      " [ 68 125 164]]\n"
     ]
    }
   ],
   "source": [
    "# Multiply two matrix:\n",
    "b = m*n\n",
    "print(\"\\nMultiply:\\n\",b)"
   ]
  },
  {
   "cell_type": "markdown",
   "metadata": {},
   "source": [
    "# Program to add two matrices using nested loop"
   ]
  },
  {
   "cell_type": "code",
   "execution_count": 14,
   "metadata": {},
   "outputs": [
    {
     "name": "stdout",
     "output_type": "stream",
     "text": [
      "\n",
      "Add two matrix using nested loop\n",
      "[17, 15, 4]\n",
      "[10, 12, 9]\n",
      "[11, 13, 18]\n"
     ]
    }
   ],
   "source": [
    "print(\"\\nAdd two matrix using nested loop\")\n",
    "X = [[12,7,3],\n",
    "     [4,5,6],\n",
    "     [7,8,9]]\n",
    "Y = [[5,8,1],\n",
    "    [6,7,3],\n",
    "    [4,5,9]]\n",
    "result = [[0,0,0],\n",
    "         [0,0,0],\n",
    "         [0,0,0]]\n",
    "\n",
    "# iterate through rows\n",
    "for i in range(len(X)):\n",
    "   # iterate through columns\n",
    "   for j in range(len(Y)):\n",
    "        result[i][j] = X[i][j] + Y[i][j]\n",
    "for r in result:\n",
    "    print(r)"
   ]
  },
  {
   "cell_type": "code",
   "execution_count": 15,
   "metadata": {},
   "outputs": [
    {
     "name": "stdout",
     "output_type": "stream",
     "text": [
      "[[1 4 7]\n",
      " [2 5 8]\n",
      " [3 6 9]]\n"
     ]
    }
   ],
   "source": [
    "#Transpose Matrix:\n",
    "Matrix = [[1,2,3],\n",
    "          [4,5,6],\n",
    "          [7,8,9]]\n",
    "M = transpose(Matrix)\n",
    "print(M)"
   ]
  },
  {
   "cell_type": "markdown",
   "metadata": {},
   "source": [
    "# take input from user:(multiple matrix)"
   ]
  },
  {
   "cell_type": "code",
   "execution_count": 16,
   "metadata": {},
   "outputs": [
    {
     "name": "stdout",
     "output_type": "stream",
     "text": [
      "Give the number of rows:2\n",
      "Give the element:1 2 3\n",
      "Give the element:4 5 6\n",
      "[[1, 2, 3], [4, 5, 6]]\n"
     ]
    }
   ],
   "source": [
    "Rows = int(input(\"Give the number of rows:\"))\n",
    "matrix = []\n",
    "for i in range(Rows):\n",
    "    single_row = list(map(int,input(\"Give the element:\").split()))\n",
    "    matrix.append(single_row)\n",
    "print(matrix)\n"
   ]
  },
  {
   "cell_type": "code",
   "execution_count": 19,
   "metadata": {},
   "outputs": [
    {
     "name": "stdout",
     "output_type": "stream",
     "text": [
      "Give the number of rows:3\n",
      "Give the number of columns:3\n",
      "Please write the elements of the matrix in a single line and separated by a space: \n",
      "1 2 3 4 5 6 7 8 9\n",
      "[[1 2 3]\n",
      " [4 5 6]\n",
      " [7 8 9]]\n"
     ]
    }
   ],
   "source": [
    "Rows = int(input(\"Give the number of rows:\"))\n",
    "Columns = int(input(\"Give the number of columns:\"))\n",
    "print(\"Please write the elements of the matrix in a single line and separated by a space: \")\n",
    "# User will give the entries in a single line\n",
    "elements = list(map(int, input().split()))\n",
    "# Printing the matrix given by the user\n",
    "matrixx = array(elements).reshape(Rows, Columns)\n",
    "print(matrixx)\n"
   ]
  },
  {
   "cell_type": "code",
   "execution_count": null,
   "metadata": {},
   "outputs": [],
   "source": []
  }
 ],
 "metadata": {
  "kernelspec": {
   "display_name": "Python 3 (ipykernel)",
   "language": "python",
   "name": "python3"
  },
  "language_info": {
   "codemirror_mode": {
    "name": "ipython",
    "version": 3
   },
   "file_extension": ".py",
   "mimetype": "text/x-python",
   "name": "python",
   "nbconvert_exporter": "python",
   "pygments_lexer": "ipython3",
   "version": "3.11.5"
  }
 },
 "nbformat": 4,
 "nbformat_minor": 2
}
