{
 "cells": [
  {
   "cell_type": "code",
   "execution_count": 3,
   "metadata": {},
   "outputs": [],
   "source": [
    "#binary search list must be sorted.\n",
    "def search(list,n):\n",
    "\tl = 0\n",
    "\tu= len(list)-1\n",
    "\twhile l <= u:\n",
    "\t\tmid = (l+u)//2\n",
    "\t\tif list[mid] == n:\n",
    "\t\t\tprint(\"position:\",mid+1,sep='')\n",
    "\t\t\tbreak\n",
    "\t\telif list[mid] < n:\n",
    "\t\t\tl = mid + 1\n",
    "\t\telse:\n",
    "\t\t\tu = mid - 1\n",
    "\telse:\n",
    "\t\tprint(\"not found\")"
   ]
  },
  {
   "cell_type": "code",
   "execution_count": 4,
   "metadata": {},
   "outputs": [
    {
     "name": "stdout",
     "output_type": "stream",
     "text": [
      "position:8\n"
     ]
    }
   ],
   "source": [
    "list = [2,4,6,8,10,20,40,80,100,200,401]\n",
    "search(list,80)"
   ]
  },
  {
   "cell_type": "code",
   "execution_count": 10,
   "metadata": {},
   "outputs": [
    {
     "name": "stdout",
     "output_type": "stream",
     "text": [
      "not found\n"
     ]
    }
   ],
   "source": [
    "list1 = [1,2,3,4,5]\n",
    "search(list1,0)"
   ]
  },
  {
   "cell_type": "code",
   "execution_count": 12,
   "metadata": {},
   "outputs": [
    {
     "name": "stdout",
     "output_type": "stream",
     "text": [
      "[0, 1, 2, 3, 5, 6, 7, 9]\n",
      "position:8\n"
     ]
    }
   ],
   "source": [
    "list2 = [5,3,6,7,2,1,9,0]\n",
    "list2.sort()\n",
    "print(list2)\n",
    "search(list2,9)"
   ]
  }
 ],
 "metadata": {
  "kernelspec": {
   "display_name": "Python 3 (ipykernel)",
   "language": "python",
   "name": "python3"
  },
  "language_info": {
   "codemirror_mode": {
    "name": "ipython",
    "version": 3
   },
   "file_extension": ".py",
   "mimetype": "text/x-python",
   "name": "python",
   "nbconvert_exporter": "python",
   "pygments_lexer": "ipython3",
   "version": "3.11.5"
  }
 },
 "nbformat": 4,
 "nbformat_minor": 2
}
