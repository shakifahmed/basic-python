{
 "cells": [
  {
   "cell_type": "markdown",
   "metadata": {},
   "source": [
    "# __init__ Method:"
   ]
  },
  {
   "cell_type": "code",
   "execution_count": 1,
   "metadata": {},
   "outputs": [],
   "source": [
    "class func:\n",
    "    def __init__(self):\n",
    "        print(\"Hello\")\n",
    "    def name1(self):\n",
    "        print(\"Shakif\")"
   ]
  },
  {
   "cell_type": "code",
   "execution_count": 2,
   "metadata": {},
   "outputs": [
    {
     "name": "stdout",
     "output_type": "stream",
     "text": [
      "Hello\n",
      "Shakif\n"
     ]
    }
   ],
   "source": [
    "a1=func()\n",
    "a1.name1()"
   ]
  },
  {
   "cell_type": "code",
   "execution_count": 3,
   "metadata": {},
   "outputs": [],
   "source": [
    "class computer:\n",
    "    def __init__(self,cpu,ram):\n",
    "        self.cpu = cpu\n",
    "        self.ram = ram\n",
    "    def config1(self):\n",
    "        print(\"configuration of computer 1:\",self.cpu,self.ram)\n",
    "    def config2(self):\n",
    "        print(\"configuration of computer 2:\",self.cpu,self.ram)"
   ]
  },
  {
   "cell_type": "code",
   "execution_count": 4,
   "metadata": {},
   "outputs": [
    {
     "name": "stdout",
     "output_type": "stream",
     "text": [
      "configuration of computer 1: core i5, 8gb ram\n",
      "configuration of computer 2: ryzen 5, 16gb ram\n"
     ]
    }
   ],
   "source": [
    "com1 = computer(\"core i5,\",\"8gb ram\")\n",
    "com2 = computer(\"ryzen 5,\",\"16gb ram\")\n",
    "com1.config1()\n",
    "com2.config2()"
   ]
  },
  {
   "cell_type": "code",
   "execution_count": 6,
   "metadata": {},
   "outputs": [
    {
     "name": "stdout",
     "output_type": "stream",
     "text": [
      "brother: Rakib\n",
      "sister: Shuma\n"
     ]
    }
   ],
   "source": [
    "class func1:\n",
    "    def __init__(self,bro,sis):\n",
    "        self.bro = bro\n",
    "        self.sis = sis\n",
    "    def bro_sis(self):\n",
    "        print(\"brother:\",self.bro)\n",
    "        print(\"sister:\",self.sis)\n",
    "# b1 = func1(\"Rakib\",\"Shuma\")\n",
    "b1 = func1(bro = \"Rakib\",sis = \"Shuma\")\n",
    "b1.bro_sis()\n"
   ]
  },
  {
   "cell_type": "code",
   "execution_count": 9,
   "metadata": {},
   "outputs": [
    {
     "name": "stdout",
     "output_type": "stream",
     "text": [
      "Mark sheet for class 10\n",
      "student 1 name: Shakif Ahmed\n",
      "student1 avarage mark: 66.67\n",
      "student 2 name: Abdullah Al Zobaier\n",
      "student2 avarage mark: 56.666666666666664\n",
      "\n",
      "student 1 name: Shakif Ahmed\n"
     ]
    }
   ],
   "source": [
    "#Types of method:\n",
    "class student:\n",
    "    #class method\n",
    "    name = \"Shakif Ahmed\"\n",
    "    #instanse method\n",
    "    def __init__(self,mark1,mark2,mark3):\n",
    "        self.mark1 = mark1\n",
    "        self.mark2 = mark2\n",
    "        self.mark3 = mark3\n",
    "        \n",
    "    def avg(self):\n",
    "        return (self.mark1+self.mark2+self.mark3)/3\n",
    "    \n",
    "    @classmethod #decorator\n",
    "    def st1_name(self):\n",
    "        return self.name\n",
    "    \n",
    "    #static method\n",
    "    @staticmethod \n",
    "    def cls():\n",
    "        return \"Mark sheet for class 10\"\n",
    "    \n",
    "s1 = student(65,50,85)\n",
    "s2 = student(40,75,55)\n",
    "print(student.cls())\n",
    "print(\"student 1 name:\",s1.st1_name())\n",
    "print(\"student1 avarage mark:\",round(s1.avg(),2)) #using round() for 2 decimal place\n",
    "s2.name = \"Abdullah Al Zobaier\" #class variable update/change\n",
    "print(\"student 2 name:\",s2.name)\n",
    "print(\"student2 avarage mark:\",s2.avg())\n",
    "print(\"\\nstudent 1 name:\",student.st1_name()) #it works only for using decorator \n"
   ]
  },
  {
   "cell_type": "code",
   "execution_count": 11,
   "metadata": {},
   "outputs": [
    {
     "name": "stdout",
     "output_type": "stream",
     "text": [
      "name: Shakif Ahmed , roll no: 157\n",
      "brand: HP , cpu: core i5 , ram: 8gb\n",
      "brand: Xiaomi , ram: 4/64gb\n",
      "brand: HP , cpu: core i5 , ram: 8gb\n"
     ]
    }
   ],
   "source": [
    "#inner class:\n",
    "#outter class\n",
    "class student:\n",
    "    def __init__(self,name,roll):\n",
    "        self.name = name\n",
    "        self.roll = roll\n",
    "        self.laptop = self.laptop\n",
    "    def show(self):\n",
    "        print(\"name:\",self.name,\",\",\"roll no:\",self.roll)\n",
    "    #inner class\n",
    "    class laptop:\n",
    "        def cofig(self,brand,cpu,ram):\n",
    "            print(\"brand:\",brand,\",\",\"cpu:\",cpu,\",\",\"ram:\",ram)\n",
    "    #inner class\n",
    "    class mobile:\n",
    "        def __init__(self,brand,ram):\n",
    "            self.brand = brand\n",
    "            self.ram = ram\n",
    "        def info(self):\n",
    "            print(\"brand:\",self.brand,\",\",\"ram:\",self.ram)\n",
    "            \n",
    "#ceating object\n",
    "s1 = student(\"Shakif Ahmed\",157)\n",
    "s1.show()\n",
    "s1 = student.laptop()\n",
    "s1.cofig(\"HP\",\"core i5\",\"8gb\")\n",
    "s1 = student.mobile(\"Xiaomi\",\"4/64gb\")\n",
    "s1.info()\n",
    "laptop = student.laptop()\n",
    "laptop.cofig(\"HP\",\"core i5\",\"8gb\")\n"
   ]
  },
  {
   "cell_type": "code",
   "execution_count": null,
   "metadata": {},
   "outputs": [],
   "source": []
  }
 ],
 "metadata": {
  "kernelspec": {
   "display_name": "Python 3 (ipykernel)",
   "language": "python",
   "name": "python3"
  },
  "language_info": {
   "codemirror_mode": {
    "name": "ipython",
    "version": 3
   },
   "file_extension": ".py",
   "mimetype": "text/x-python",
   "name": "python",
   "nbconvert_exporter": "python",
   "pygments_lexer": "ipython3",
   "version": "3.11.5"
  }
 },
 "nbformat": 4,
 "nbformat_minor": 2
}
