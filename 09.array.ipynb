{
 "cells": [
  {
   "cell_type": "code",
   "execution_count": 2,
   "metadata": {},
   "outputs": [],
   "source": [
    "from array import *"
   ]
  },
  {
   "cell_type": "code",
   "execution_count": 3,
   "metadata": {},
   "outputs": [
    {
     "name": "stdout",
     "output_type": "stream",
     "text": [
      "array('i', [-3, -2, -1, 0, 1, 2, 3])\n"
     ]
    }
   ],
   "source": [
    "vals_1 = array('i',[-3,-2,-1,0,1,2,3]) #[i = signed int]\n",
    "print(vals_1)"
   ]
  },
  {
   "cell_type": "code",
   "execution_count": 4,
   "metadata": {},
   "outputs": [
    {
     "name": "stdout",
     "output_type": "stream",
     "text": [
      "array('I', [0, 1, 2, 3, 4, 5, 6])\n"
     ]
    }
   ],
   "source": [
    "vals_2 = array('I',[0,1,2,3,4,5,6]) #[I = unsigned int]\n",
    "print(vals_2)"
   ]
  },
  {
   "cell_type": "code",
   "execution_count": 5,
   "metadata": {},
   "outputs": [
    {
     "name": "stdout",
     "output_type": "stream",
     "text": [
      "array('u', 'abcd')\n"
     ]
    }
   ],
   "source": [
    "vals_3 = array('u',['a','b','c','d']) #[u = unicode character.using for text]\n",
    "print(vals_3)"
   ]
  },
  {
   "cell_type": "code",
   "execution_count": 6,
   "metadata": {},
   "outputs": [
    {
     "name": "stdout",
     "output_type": "stream",
     "text": [
      "array('f', [-3.5, -2.5999999046325684, -1.0, 0.6000000238418579, 1.0, 2.200000047683716, 3.799999952316284])\n"
     ]
    }
   ],
   "source": [
    "vals_4 = array('f',[-3.5,-2.6,-1,0.6,1,2.2,3.8]) #[f = float]\n",
    "print(vals_4)"
   ]
  },
  {
   "cell_type": "markdown",
   "metadata": {},
   "source": [
    "# buffer_info()\n",
    "**give the address & size of a array**"
   ]
  },
  {
   "cell_type": "code",
   "execution_count": 7,
   "metadata": {},
   "outputs": [
    {
     "name": "stdout",
     "output_type": "stream",
     "text": [
      "(1946840165040, 7)\n"
     ]
    }
   ],
   "source": [
    "vals_1 = array('i',[-3,-2,-1,0,1,2,3]) #[i = signed int]\n",
    "print(vals_1.buffer_info())"
   ]
  },
  {
   "cell_type": "code",
   "execution_count": 8,
   "metadata": {},
   "outputs": [
    {
     "name": "stdout",
     "output_type": "stream",
     "text": [
      "i\n"
     ]
    }
   ],
   "source": [
    "#Typecode:give the type of array\n",
    "vals_1 = array('i',[-3,-2,-1,0,1,2,3]) #[i = signed int]\n",
    "print(vals_1.typecode)"
   ]
  },
  {
   "cell_type": "code",
   "execution_count": 9,
   "metadata": {},
   "outputs": [
    {
     "name": "stdout",
     "output_type": "stream",
     "text": [
      "array('i', [3, 2, 1, 0, -1, -2, -3])\n"
     ]
    }
   ],
   "source": [
    "# [in array can use append,remove,reverse as well as List.]\n",
    "vals_1.reverse()\n",
    "print(vals_1)"
   ]
  },
  {
   "cell_type": "code",
   "execution_count": 11,
   "metadata": {},
   "outputs": [
    {
     "name": "stdout",
     "output_type": "stream",
     "text": [
      "3\n"
     ]
    }
   ],
   "source": [
    "# for indexing:\n",
    "print(vals_1[0])"
   ]
  },
  {
   "cell_type": "code",
   "execution_count": 14,
   "metadata": {},
   "outputs": [
    {
     "name": "stdout",
     "output_type": "stream",
     "text": [
      "3\n",
      "2\n",
      "1\n",
      "0\n",
      "-1\n",
      "-2\n",
      "-3\n"
     ]
    }
   ],
   "source": [
    "# access array:\n",
    "for i in vals_1:\n",
    "    print(i)"
   ]
  },
  {
   "cell_type": "code",
   "execution_count": 15,
   "metadata": {},
   "outputs": [
    {
     "name": "stdout",
     "output_type": "stream",
     "text": [
      "3\n",
      "2\n",
      "1\n",
      "0\n",
      "-1\n",
      "-2\n",
      "-3\n"
     ]
    }
   ],
   "source": [
    "#or\n",
    "for i in range(7):\n",
    "    print(vals_1[i])"
   ]
  },
  {
   "cell_type": "code",
   "execution_count": 16,
   "metadata": {},
   "outputs": [
    {
     "name": "stdout",
     "output_type": "stream",
     "text": [
      "array('i', [-2, -1, 0, 1, 2])\n",
      "-2\n",
      "-1\n",
      "0\n",
      "1\n",
      "2\n",
      "array('i', [-2, -1, 0, 1, 2])\n",
      "-2\n",
      "-1\n",
      "0\n",
      "1\n",
      "2\n"
     ]
    }
   ],
   "source": [
    "# Create a new array from a existing array:\n",
    "arr = array('i',[-2,-1,0,1,2])\n",
    "print(arr)\n",
    "for i in arr:\n",
    "    print(i)\n",
    "newarr = array(arr.typecode,(a for a in arr))\n",
    "print(newarr)\n",
    "for j in newarr:\n",
    "    print(j)"
   ]
  },
  {
   "cell_type": "code",
   "execution_count": 17,
   "metadata": {},
   "outputs": [
    {
     "name": "stdout",
     "output_type": "stream",
     "text": [
      "array('i', [4, 1, 0, 1, 4])\n",
      "4\n",
      "1\n",
      "0\n",
      "1\n",
      "4\n"
     ]
    }
   ],
   "source": [
    "# if want to squre value then--\n",
    "newarr1 = array(arr.typecode,(a*a for a in arr))\n",
    "print(newarr1)\n",
    "for k in newarr1:\n",
    "    print(k)"
   ]
  },
  {
   "cell_type": "code",
   "execution_count": 18,
   "metadata": {},
   "outputs": [
    {
     "name": "stdout",
     "output_type": "stream",
     "text": [
      "Enter how many number of element you want to add in array:5\n",
      "Enter the value 1 :2\n",
      "Enter the value 2 :4\n",
      "Enter the value 3 :6\n",
      "Enter the value 4 :8\n",
      "Enter the value 5 :10\n",
      "array('i', [2, 4, 6, 8, 10])\n"
     ]
    }
   ],
   "source": [
    "# Input Array From User:\n",
    "arr = array('i',[])\n",
    "n = int(input('Enter how many number of element you want to add in array:'))\n",
    "for i in range(1,n+1):\n",
    "    print('Enter the value',i,':',end='')\n",
    "    ele = int(input())\n",
    "    arr.append(ele)\n",
    "print(arr)"
   ]
  },
  {
   "cell_type": "markdown",
   "metadata": {},
   "source": [
    "# Finding the index of an item in a Array:"
   ]
  },
  {
   "cell_type": "code",
   "execution_count": 19,
   "metadata": {},
   "outputs": [
    {
     "name": "stdout",
     "output_type": "stream",
     "text": [
      "Enter how many number of element you want to add in array:5\n",
      "Enter the value 1 :12\n",
      "Enter the value 2 :5\n",
      "Enter the value 3 :3\n",
      "Enter the value 4 :10\n",
      "Enter the value 5 :8\n",
      "array('i', [12, 5, 3, 10, 8])\n",
      "Enter your checking value:10\n",
      "3\n"
     ]
    }
   ],
   "source": [
    "#Easy way:\n",
    "arr = array('i',[])\n",
    "n = int(input('Enter how many number of element you want to add in array:'))\n",
    "for i in range(1,n+1):\n",
    "    print('Enter the value',i,':',end='')\n",
    "    ele = int(input())\n",
    "    arr.append(ele)\n",
    "print(arr)\n",
    "check_val= int(input('Enter your checking value:'))\n",
    "j = arr.index(check_val) # show the index position\n",
    "print(j)"
   ]
  },
  {
   "cell_type": "code",
   "execution_count": 20,
   "metadata": {},
   "outputs": [
    {
     "name": "stdout",
     "output_type": "stream",
     "text": [
      "Enter how many number of element you want to add:5\n",
      "Enter the value 1 :5\n",
      "Enter the value 2 :10\n",
      "Enter the value 3 :15\n",
      "Enter the value 4 :20\n",
      "Enter the value 5 :25\n",
      "array('i', [5, 10, 15, 20, 25])\n",
      "Enter your checking value:5\n",
      "index no: 0\n"
     ]
    }
   ],
   "source": [
    "#Using for loop:\n",
    "arr = array('i',[])\n",
    "n = int(input('Enter how many number of element you want to add:'))\n",
    "for i in range(1,n+1):\n",
    "    print('Enter the value',i,':',end='')\n",
    "    ele = int(input())\n",
    "    arr.append(ele)\n",
    "print(arr)\n",
    "check_val= int(input('Enter your checking value:'))\n",
    "k = 0\n",
    "for i in arr:\n",
    "    if i==check_val:\n",
    "        print('index no:',k)\n",
    "        break\n",
    "    k = k+1\n",
    "else:\n",
    "    print('your entered value not match with array')"
   ]
  },
  {
   "cell_type": "markdown",
   "metadata": {},
   "source": [
    "# User input:"
   ]
  },
  {
   "cell_type": "code",
   "execution_count": 21,
   "metadata": {},
   "outputs": [
    {
     "name": "stdout",
     "output_type": "stream",
     "text": [
      "Enter your last 3 digit of roll no:555\n",
      "array('i', [5, 5, 5])\n"
     ]
    }
   ],
   "source": [
    "for i in range(3):\n",
    "    a = input(\"Enter your last 3 digit of roll no:\")\n",
    "    b = [int(c) for c in str(a)]\n",
    "    if len(a) == 3:\n",
    "        d = array('i',b)\n",
    "        print(d)\n",
    "        break\n",
    "    else:\n",
    "        print(\"length of digit must be 3.your entered digit length is\",len(a))\n",
    "i= i+1"
   ]
  },
  {
   "cell_type": "code",
   "execution_count": null,
   "metadata": {},
   "outputs": [],
   "source": []
  }
 ],
 "metadata": {
  "kernelspec": {
   "display_name": "Python 3 (ipykernel)",
   "language": "python",
   "name": "python3"
  },
  "language_info": {
   "codemirror_mode": {
    "name": "ipython",
    "version": 3
   },
   "file_extension": ".py",
   "mimetype": "text/x-python",
   "name": "python",
   "nbconvert_exporter": "python",
   "pygments_lexer": "ipython3",
   "version": "3.11.5"
  }
 },
 "nbformat": 4,
 "nbformat_minor": 2
}
