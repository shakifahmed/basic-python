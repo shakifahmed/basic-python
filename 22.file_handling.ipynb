{
 "cells": [
  {
   "cell_type": "markdown",
   "metadata": {},
   "source": [
    "### Check the following txt file for see the output\n",
    "1. read data.txt\n",
    "2. write data.txt\n",
    "3. append data.txt"
   ]
  },
  {
   "cell_type": "markdown",
   "metadata": {},
   "source": [
    "## for read the file:"
   ]
  },
  {
   "cell_type": "code",
   "execution_count": 7,
   "metadata": {},
   "outputs": [
    {
     "name": "stdout",
     "output_type": "stream",
     "text": [
      "Hello my name is Shakif Ahmed.\n",
      "Currently i am a student of AUST.\n",
      "\n"
     ]
    }
   ],
   "source": [
    "f = open('read data.txt','r')\n",
    "# print(f.read()) # print everything from the text file.\n",
    "\n",
    "print(f.readline(),end='') # only print the first line.\n",
    "print(f.readline()) # print the second line of the text file."
   ]
  },
  {
   "cell_type": "markdown",
   "metadata": {},
   "source": [
    "## for write the file:"
   ]
  },
  {
   "cell_type": "code",
   "execution_count": 8,
   "metadata": {},
   "outputs": [
    {
     "data": {
      "text/plain": [
       "23"
      ]
     },
     "execution_count": 8,
     "metadata": {},
     "output_type": "execute_result"
    }
   ],
   "source": [
    "f1 = open('write data.txt','w')\n",
    "f1.write(\"Hello!\\n\")\n",
    "f1.write(\"My name is Shakif Ahmed\")"
   ]
  },
  {
   "cell_type": "markdown",
   "metadata": {},
   "source": [
    "## for append something in the text file:"
   ]
  },
  {
   "cell_type": "code",
   "execution_count": 9,
   "metadata": {},
   "outputs": [
    {
     "data": {
      "text/plain": [
       "14"
      ]
     },
     "execution_count": 9,
     "metadata": {},
     "output_type": "execute_result"
    }
   ],
   "source": [
    "f2 = open('append data.txt','a')\n",
    "f2.write(\"Name:Shakif Ahmed\\n\")\n",
    "f2.write(\"Age:24\\n\")\n",
    "f2.write(\"Location:Mirpur,Dhaka\\n\")\n",
    "f2.write(\"University:Ahsanullah University of Science and Technology\\n\")\n",
    "f2.write(\"Year:3rd\\n\")\n",
    "f2.write(\"Semester:2nd\\n\")\n",
    "f2.write(\"Department:EEE\\n\")\n",
    "f2.write(\"ID:190205157\\n\\n\")"
   ]
  },
  {
   "cell_type": "code",
   "execution_count": null,
   "metadata": {},
   "outputs": [],
   "source": []
  }
 ],
 "metadata": {
  "kernelspec": {
   "display_name": "Python 3 (ipykernel)",
   "language": "python",
   "name": "python3"
  },
  "language_info": {
   "codemirror_mode": {
    "name": "ipython",
    "version": 3
   },
   "file_extension": ".py",
   "mimetype": "text/x-python",
   "name": "python",
   "nbconvert_exporter": "python",
   "pygments_lexer": "ipython3",
   "version": "3.11.5"
  }
 },
 "nbformat": 4,
 "nbformat_minor": 2
}
